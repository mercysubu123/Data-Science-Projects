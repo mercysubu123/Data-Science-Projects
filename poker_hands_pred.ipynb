{
  "cells": [
    {
      "cell_type": "code",
      "execution_count": null,
      "metadata": {
        "id": "HIA9zMltByPe"
      },
      "outputs": [],
      "source": [
        "#importing libraries\n",
        "import pandas as pd\n",
        "import numpy as np\n",
        "import matplotlib.pyplot as plt\n",
        "from sklearn.preprocessing import StandardScaler\n",
        "from sklearn.neighbors import KNeighborsClassifier\n",
        "from sklearn.model_selection import RandomizedSearchCV\n",
        "from sklearn.svm import SVC\n",
        "from sklearn.model_selection import GridSearchCV\n",
        "from sklearn.model_selection import train_test_split\n",
        "from sklearn.model_selection import cross_val_score\n",
        "from sklearn import tree, svm\n",
        "from sklearn.metrics import accuracy_score\n",
        "from sklearn.metrics import classification_report\n",
        "from sklearn.metrics import confusion_matrix\n",
        "from sklearn.ensemble import BaggingClassifier\n",
        "from sklearn.tree import DecisionTreeClassifier\n",
        "from sklearn.ensemble import RandomForestClassifier\n",
        "from sklearn.metrics import precision_score, recall_score, f1_score\n",
        "from pprint import pprint"
      ]
    },
    {
      "cell_type": "code",
      "execution_count": null,
      "metadata": {
        "id": "-cy0EXKBJBZS"
      },
      "outputs": [],
      "source": [
        "#loading training and testing dataset\n",
        "train = pd.read_csv('https://archive.ics.uci.edu/ml/machine-learning-databases/poker/poker-hand-training-true.data', header=None)\n",
        "test = pd.read_csv('https://archive.ics.uci.edu/ml/machine-learning-databases/poker/poker-hand-testing.data', header=None)"
      ]
    },
    {
      "cell_type": "markdown",
      "source": [
        "The data I am using is from UCI machine learning repository. They already have splitted dataset. Hence no need of splitting data to train and test."
      ],
      "metadata": {
        "id": "XKkmfZxuqyU0"
      }
    },
    {
      "cell_type": "code",
      "execution_count": null,
      "metadata": {
        "id": "aEIwxMWqKXRw"
      },
      "outputs": [],
      "source": [
        "#creating columns\n",
        "train.columns = ['S1', 'C1', 'S2', 'C2', 'S3', 'C3', 'S4', 'C4', 'S5', 'C5', 'Label']\n",
        "test.columns = ['S1', 'C1', 'S2', 'C2', 'S3', 'C3', 'S4', 'C4', 'S5', 'C5', 'Label']"
      ]
    },
    {
      "cell_type": "code",
      "execution_count": null,
      "metadata": {
        "colab": {
          "base_uri": "https://localhost:8080/",
          "height": 206
        },
        "id": "LjHdmrytK6DP",
        "outputId": "738956c5-3d0b-4fd1-d187-0e5011c2c30c"
      },
      "outputs": [
        {
          "output_type": "execute_result",
          "data": {
            "text/plain": [
              "   S1  C1  S2  C2  S3  C3  S4  C4  S5  C5  Label\n",
              "0   1  10   1  11   1  13   1  12   1   1      9\n",
              "1   2  11   2  13   2  10   2  12   2   1      9\n",
              "2   3  12   3  11   3  13   3  10   3   1      9\n",
              "3   4  10   4  11   4   1   4  13   4  12      9\n",
              "4   4   1   4  13   4  12   4  11   4  10      9"
            ],
            "text/html": [
              "\n",
              "  <div id=\"df-2460bf0a-cda1-4a5a-abd6-cf4eb63fa7fa\">\n",
              "    <div class=\"colab-df-container\">\n",
              "      <div>\n",
              "<style scoped>\n",
              "    .dataframe tbody tr th:only-of-type {\n",
              "        vertical-align: middle;\n",
              "    }\n",
              "\n",
              "    .dataframe tbody tr th {\n",
              "        vertical-align: top;\n",
              "    }\n",
              "\n",
              "    .dataframe thead th {\n",
              "        text-align: right;\n",
              "    }\n",
              "</style>\n",
              "<table border=\"1\" class=\"dataframe\">\n",
              "  <thead>\n",
              "    <tr style=\"text-align: right;\">\n",
              "      <th></th>\n",
              "      <th>S1</th>\n",
              "      <th>C1</th>\n",
              "      <th>S2</th>\n",
              "      <th>C2</th>\n",
              "      <th>S3</th>\n",
              "      <th>C3</th>\n",
              "      <th>S4</th>\n",
              "      <th>C4</th>\n",
              "      <th>S5</th>\n",
              "      <th>C5</th>\n",
              "      <th>Label</th>\n",
              "    </tr>\n",
              "  </thead>\n",
              "  <tbody>\n",
              "    <tr>\n",
              "      <th>0</th>\n",
              "      <td>1</td>\n",
              "      <td>10</td>\n",
              "      <td>1</td>\n",
              "      <td>11</td>\n",
              "      <td>1</td>\n",
              "      <td>13</td>\n",
              "      <td>1</td>\n",
              "      <td>12</td>\n",
              "      <td>1</td>\n",
              "      <td>1</td>\n",
              "      <td>9</td>\n",
              "    </tr>\n",
              "    <tr>\n",
              "      <th>1</th>\n",
              "      <td>2</td>\n",
              "      <td>11</td>\n",
              "      <td>2</td>\n",
              "      <td>13</td>\n",
              "      <td>2</td>\n",
              "      <td>10</td>\n",
              "      <td>2</td>\n",
              "      <td>12</td>\n",
              "      <td>2</td>\n",
              "      <td>1</td>\n",
              "      <td>9</td>\n",
              "    </tr>\n",
              "    <tr>\n",
              "      <th>2</th>\n",
              "      <td>3</td>\n",
              "      <td>12</td>\n",
              "      <td>3</td>\n",
              "      <td>11</td>\n",
              "      <td>3</td>\n",
              "      <td>13</td>\n",
              "      <td>3</td>\n",
              "      <td>10</td>\n",
              "      <td>3</td>\n",
              "      <td>1</td>\n",
              "      <td>9</td>\n",
              "    </tr>\n",
              "    <tr>\n",
              "      <th>3</th>\n",
              "      <td>4</td>\n",
              "      <td>10</td>\n",
              "      <td>4</td>\n",
              "      <td>11</td>\n",
              "      <td>4</td>\n",
              "      <td>1</td>\n",
              "      <td>4</td>\n",
              "      <td>13</td>\n",
              "      <td>4</td>\n",
              "      <td>12</td>\n",
              "      <td>9</td>\n",
              "    </tr>\n",
              "    <tr>\n",
              "      <th>4</th>\n",
              "      <td>4</td>\n",
              "      <td>1</td>\n",
              "      <td>4</td>\n",
              "      <td>13</td>\n",
              "      <td>4</td>\n",
              "      <td>12</td>\n",
              "      <td>4</td>\n",
              "      <td>11</td>\n",
              "      <td>4</td>\n",
              "      <td>10</td>\n",
              "      <td>9</td>\n",
              "    </tr>\n",
              "  </tbody>\n",
              "</table>\n",
              "</div>\n",
              "      <button class=\"colab-df-convert\" onclick=\"convertToInteractive('df-2460bf0a-cda1-4a5a-abd6-cf4eb63fa7fa')\"\n",
              "              title=\"Convert this dataframe to an interactive table.\"\n",
              "              style=\"display:none;\">\n",
              "        \n",
              "  <svg xmlns=\"http://www.w3.org/2000/svg\" height=\"24px\"viewBox=\"0 0 24 24\"\n",
              "       width=\"24px\">\n",
              "    <path d=\"M0 0h24v24H0V0z\" fill=\"none\"/>\n",
              "    <path d=\"M18.56 5.44l.94 2.06.94-2.06 2.06-.94-2.06-.94-.94-2.06-.94 2.06-2.06.94zm-11 1L8.5 8.5l.94-2.06 2.06-.94-2.06-.94L8.5 2.5l-.94 2.06-2.06.94zm10 10l.94 2.06.94-2.06 2.06-.94-2.06-.94-.94-2.06-.94 2.06-2.06.94z\"/><path d=\"M17.41 7.96l-1.37-1.37c-.4-.4-.92-.59-1.43-.59-.52 0-1.04.2-1.43.59L10.3 9.45l-7.72 7.72c-.78.78-.78 2.05 0 2.83L4 21.41c.39.39.9.59 1.41.59.51 0 1.02-.2 1.41-.59l7.78-7.78 2.81-2.81c.8-.78.8-2.07 0-2.86zM5.41 20L4 18.59l7.72-7.72 1.47 1.35L5.41 20z\"/>\n",
              "  </svg>\n",
              "      </button>\n",
              "      \n",
              "  <style>\n",
              "    .colab-df-container {\n",
              "      display:flex;\n",
              "      flex-wrap:wrap;\n",
              "      gap: 12px;\n",
              "    }\n",
              "\n",
              "    .colab-df-convert {\n",
              "      background-color: #E8F0FE;\n",
              "      border: none;\n",
              "      border-radius: 50%;\n",
              "      cursor: pointer;\n",
              "      display: none;\n",
              "      fill: #1967D2;\n",
              "      height: 32px;\n",
              "      padding: 0 0 0 0;\n",
              "      width: 32px;\n",
              "    }\n",
              "\n",
              "    .colab-df-convert:hover {\n",
              "      background-color: #E2EBFA;\n",
              "      box-shadow: 0px 1px 2px rgba(60, 64, 67, 0.3), 0px 1px 3px 1px rgba(60, 64, 67, 0.15);\n",
              "      fill: #174EA6;\n",
              "    }\n",
              "\n",
              "    [theme=dark] .colab-df-convert {\n",
              "      background-color: #3B4455;\n",
              "      fill: #D2E3FC;\n",
              "    }\n",
              "\n",
              "    [theme=dark] .colab-df-convert:hover {\n",
              "      background-color: #434B5C;\n",
              "      box-shadow: 0px 1px 3px 1px rgba(0, 0, 0, 0.15);\n",
              "      filter: drop-shadow(0px 1px 2px rgba(0, 0, 0, 0.3));\n",
              "      fill: #FFFFFF;\n",
              "    }\n",
              "  </style>\n",
              "\n",
              "      <script>\n",
              "        const buttonEl =\n",
              "          document.querySelector('#df-2460bf0a-cda1-4a5a-abd6-cf4eb63fa7fa button.colab-df-convert');\n",
              "        buttonEl.style.display =\n",
              "          google.colab.kernel.accessAllowed ? 'block' : 'none';\n",
              "\n",
              "        async function convertToInteractive(key) {\n",
              "          const element = document.querySelector('#df-2460bf0a-cda1-4a5a-abd6-cf4eb63fa7fa');\n",
              "          const dataTable =\n",
              "            await google.colab.kernel.invokeFunction('convertToInteractive',\n",
              "                                                     [key], {});\n",
              "          if (!dataTable) return;\n",
              "\n",
              "          const docLinkHtml = 'Like what you see? Visit the ' +\n",
              "            '<a target=\"_blank\" href=https://colab.research.google.com/notebooks/data_table.ipynb>data table notebook</a>'\n",
              "            + ' to learn more about interactive tables.';\n",
              "          element.innerHTML = '';\n",
              "          dataTable['output_type'] = 'display_data';\n",
              "          await google.colab.output.renderOutput(dataTable, element);\n",
              "          const docLink = document.createElement('div');\n",
              "          docLink.innerHTML = docLinkHtml;\n",
              "          element.appendChild(docLink);\n",
              "        }\n",
              "      </script>\n",
              "    </div>\n",
              "  </div>\n",
              "  "
            ]
          },
          "metadata": {},
          "execution_count": 32
        }
      ],
      "source": [
        "train.head()"
      ]
    },
    {
      "cell_type": "code",
      "execution_count": null,
      "metadata": {
        "colab": {
          "base_uri": "https://localhost:8080/",
          "height": 300
        },
        "id": "ZD534fgqK5_r",
        "outputId": "1297ff27-41ce-41ba-dd1c-27e188a37c7c"
      },
      "outputs": [
        {
          "output_type": "execute_result",
          "data": {
            "text/plain": [
              "                 S1            C1            S2            C2            S3  \\\n",
              "count  25010.000000  25010.000000  25010.000000  25010.000000  25010.000000   \n",
              "mean       2.508756      6.995242      2.497721      7.014194      2.510236   \n",
              "std        1.116483      3.749805      1.121767      3.766974      1.123148   \n",
              "min        1.000000      1.000000      1.000000      1.000000      1.000000   \n",
              "25%        2.000000      4.000000      1.000000      4.000000      2.000000   \n",
              "50%        3.000000      7.000000      2.000000      7.000000      3.000000   \n",
              "75%        4.000000     10.000000      4.000000     10.000000      4.000000   \n",
              "max        4.000000     13.000000      4.000000     13.000000      4.000000   \n",
              "\n",
              "                 C3            S4            C4            S5            C5  \\\n",
              "count  25010.000000  25010.000000  25010.000000  25010.000000  25010.000000   \n",
              "mean       7.014154      2.495922      6.942463      2.497321      6.962735   \n",
              "std        3.744974      1.116009      3.747147      1.118732      3.741579   \n",
              "min        1.000000      1.000000      1.000000      1.000000      1.000000   \n",
              "25%        4.000000      1.000000      4.000000      1.000000      4.000000   \n",
              "50%        7.000000      2.000000      7.000000      3.000000      7.000000   \n",
              "75%       10.000000      3.000000     10.000000      3.000000     10.000000   \n",
              "max       13.000000      4.000000     13.000000      4.000000     13.000000   \n",
              "\n",
              "              Label  \n",
              "count  25010.000000  \n",
              "mean       0.621152  \n",
              "std        0.788361  \n",
              "min        0.000000  \n",
              "25%        0.000000  \n",
              "50%        1.000000  \n",
              "75%        1.000000  \n",
              "max        9.000000  "
            ],
            "text/html": [
              "\n",
              "  <div id=\"df-57021fcf-0123-47ba-9aaa-4c8e1bb66628\">\n",
              "    <div class=\"colab-df-container\">\n",
              "      <div>\n",
              "<style scoped>\n",
              "    .dataframe tbody tr th:only-of-type {\n",
              "        vertical-align: middle;\n",
              "    }\n",
              "\n",
              "    .dataframe tbody tr th {\n",
              "        vertical-align: top;\n",
              "    }\n",
              "\n",
              "    .dataframe thead th {\n",
              "        text-align: right;\n",
              "    }\n",
              "</style>\n",
              "<table border=\"1\" class=\"dataframe\">\n",
              "  <thead>\n",
              "    <tr style=\"text-align: right;\">\n",
              "      <th></th>\n",
              "      <th>S1</th>\n",
              "      <th>C1</th>\n",
              "      <th>S2</th>\n",
              "      <th>C2</th>\n",
              "      <th>S3</th>\n",
              "      <th>C3</th>\n",
              "      <th>S4</th>\n",
              "      <th>C4</th>\n",
              "      <th>S5</th>\n",
              "      <th>C5</th>\n",
              "      <th>Label</th>\n",
              "    </tr>\n",
              "  </thead>\n",
              "  <tbody>\n",
              "    <tr>\n",
              "      <th>count</th>\n",
              "      <td>25010.000000</td>\n",
              "      <td>25010.000000</td>\n",
              "      <td>25010.000000</td>\n",
              "      <td>25010.000000</td>\n",
              "      <td>25010.000000</td>\n",
              "      <td>25010.000000</td>\n",
              "      <td>25010.000000</td>\n",
              "      <td>25010.000000</td>\n",
              "      <td>25010.000000</td>\n",
              "      <td>25010.000000</td>\n",
              "      <td>25010.000000</td>\n",
              "    </tr>\n",
              "    <tr>\n",
              "      <th>mean</th>\n",
              "      <td>2.508756</td>\n",
              "      <td>6.995242</td>\n",
              "      <td>2.497721</td>\n",
              "      <td>7.014194</td>\n",
              "      <td>2.510236</td>\n",
              "      <td>7.014154</td>\n",
              "      <td>2.495922</td>\n",
              "      <td>6.942463</td>\n",
              "      <td>2.497321</td>\n",
              "      <td>6.962735</td>\n",
              "      <td>0.621152</td>\n",
              "    </tr>\n",
              "    <tr>\n",
              "      <th>std</th>\n",
              "      <td>1.116483</td>\n",
              "      <td>3.749805</td>\n",
              "      <td>1.121767</td>\n",
              "      <td>3.766974</td>\n",
              "      <td>1.123148</td>\n",
              "      <td>3.744974</td>\n",
              "      <td>1.116009</td>\n",
              "      <td>3.747147</td>\n",
              "      <td>1.118732</td>\n",
              "      <td>3.741579</td>\n",
              "      <td>0.788361</td>\n",
              "    </tr>\n",
              "    <tr>\n",
              "      <th>min</th>\n",
              "      <td>1.000000</td>\n",
              "      <td>1.000000</td>\n",
              "      <td>1.000000</td>\n",
              "      <td>1.000000</td>\n",
              "      <td>1.000000</td>\n",
              "      <td>1.000000</td>\n",
              "      <td>1.000000</td>\n",
              "      <td>1.000000</td>\n",
              "      <td>1.000000</td>\n",
              "      <td>1.000000</td>\n",
              "      <td>0.000000</td>\n",
              "    </tr>\n",
              "    <tr>\n",
              "      <th>25%</th>\n",
              "      <td>2.000000</td>\n",
              "      <td>4.000000</td>\n",
              "      <td>1.000000</td>\n",
              "      <td>4.000000</td>\n",
              "      <td>2.000000</td>\n",
              "      <td>4.000000</td>\n",
              "      <td>1.000000</td>\n",
              "      <td>4.000000</td>\n",
              "      <td>1.000000</td>\n",
              "      <td>4.000000</td>\n",
              "      <td>0.000000</td>\n",
              "    </tr>\n",
              "    <tr>\n",
              "      <th>50%</th>\n",
              "      <td>3.000000</td>\n",
              "      <td>7.000000</td>\n",
              "      <td>2.000000</td>\n",
              "      <td>7.000000</td>\n",
              "      <td>3.000000</td>\n",
              "      <td>7.000000</td>\n",
              "      <td>2.000000</td>\n",
              "      <td>7.000000</td>\n",
              "      <td>3.000000</td>\n",
              "      <td>7.000000</td>\n",
              "      <td>1.000000</td>\n",
              "    </tr>\n",
              "    <tr>\n",
              "      <th>75%</th>\n",
              "      <td>4.000000</td>\n",
              "      <td>10.000000</td>\n",
              "      <td>4.000000</td>\n",
              "      <td>10.000000</td>\n",
              "      <td>4.000000</td>\n",
              "      <td>10.000000</td>\n",
              "      <td>3.000000</td>\n",
              "      <td>10.000000</td>\n",
              "      <td>3.000000</td>\n",
              "      <td>10.000000</td>\n",
              "      <td>1.000000</td>\n",
              "    </tr>\n",
              "    <tr>\n",
              "      <th>max</th>\n",
              "      <td>4.000000</td>\n",
              "      <td>13.000000</td>\n",
              "      <td>4.000000</td>\n",
              "      <td>13.000000</td>\n",
              "      <td>4.000000</td>\n",
              "      <td>13.000000</td>\n",
              "      <td>4.000000</td>\n",
              "      <td>13.000000</td>\n",
              "      <td>4.000000</td>\n",
              "      <td>13.000000</td>\n",
              "      <td>9.000000</td>\n",
              "    </tr>\n",
              "  </tbody>\n",
              "</table>\n",
              "</div>\n",
              "      <button class=\"colab-df-convert\" onclick=\"convertToInteractive('df-57021fcf-0123-47ba-9aaa-4c8e1bb66628')\"\n",
              "              title=\"Convert this dataframe to an interactive table.\"\n",
              "              style=\"display:none;\">\n",
              "        \n",
              "  <svg xmlns=\"http://www.w3.org/2000/svg\" height=\"24px\"viewBox=\"0 0 24 24\"\n",
              "       width=\"24px\">\n",
              "    <path d=\"M0 0h24v24H0V0z\" fill=\"none\"/>\n",
              "    <path d=\"M18.56 5.44l.94 2.06.94-2.06 2.06-.94-2.06-.94-.94-2.06-.94 2.06-2.06.94zm-11 1L8.5 8.5l.94-2.06 2.06-.94-2.06-.94L8.5 2.5l-.94 2.06-2.06.94zm10 10l.94 2.06.94-2.06 2.06-.94-2.06-.94-.94-2.06-.94 2.06-2.06.94z\"/><path d=\"M17.41 7.96l-1.37-1.37c-.4-.4-.92-.59-1.43-.59-.52 0-1.04.2-1.43.59L10.3 9.45l-7.72 7.72c-.78.78-.78 2.05 0 2.83L4 21.41c.39.39.9.59 1.41.59.51 0 1.02-.2 1.41-.59l7.78-7.78 2.81-2.81c.8-.78.8-2.07 0-2.86zM5.41 20L4 18.59l7.72-7.72 1.47 1.35L5.41 20z\"/>\n",
              "  </svg>\n",
              "      </button>\n",
              "      \n",
              "  <style>\n",
              "    .colab-df-container {\n",
              "      display:flex;\n",
              "      flex-wrap:wrap;\n",
              "      gap: 12px;\n",
              "    }\n",
              "\n",
              "    .colab-df-convert {\n",
              "      background-color: #E8F0FE;\n",
              "      border: none;\n",
              "      border-radius: 50%;\n",
              "      cursor: pointer;\n",
              "      display: none;\n",
              "      fill: #1967D2;\n",
              "      height: 32px;\n",
              "      padding: 0 0 0 0;\n",
              "      width: 32px;\n",
              "    }\n",
              "\n",
              "    .colab-df-convert:hover {\n",
              "      background-color: #E2EBFA;\n",
              "      box-shadow: 0px 1px 2px rgba(60, 64, 67, 0.3), 0px 1px 3px 1px rgba(60, 64, 67, 0.15);\n",
              "      fill: #174EA6;\n",
              "    }\n",
              "\n",
              "    [theme=dark] .colab-df-convert {\n",
              "      background-color: #3B4455;\n",
              "      fill: #D2E3FC;\n",
              "    }\n",
              "\n",
              "    [theme=dark] .colab-df-convert:hover {\n",
              "      background-color: #434B5C;\n",
              "      box-shadow: 0px 1px 3px 1px rgba(0, 0, 0, 0.15);\n",
              "      filter: drop-shadow(0px 1px 2px rgba(0, 0, 0, 0.3));\n",
              "      fill: #FFFFFF;\n",
              "    }\n",
              "  </style>\n",
              "\n",
              "      <script>\n",
              "        const buttonEl =\n",
              "          document.querySelector('#df-57021fcf-0123-47ba-9aaa-4c8e1bb66628 button.colab-df-convert');\n",
              "        buttonEl.style.display =\n",
              "          google.colab.kernel.accessAllowed ? 'block' : 'none';\n",
              "\n",
              "        async function convertToInteractive(key) {\n",
              "          const element = document.querySelector('#df-57021fcf-0123-47ba-9aaa-4c8e1bb66628');\n",
              "          const dataTable =\n",
              "            await google.colab.kernel.invokeFunction('convertToInteractive',\n",
              "                                                     [key], {});\n",
              "          if (!dataTable) return;\n",
              "\n",
              "          const docLinkHtml = 'Like what you see? Visit the ' +\n",
              "            '<a target=\"_blank\" href=https://colab.research.google.com/notebooks/data_table.ipynb>data table notebook</a>'\n",
              "            + ' to learn more about interactive tables.';\n",
              "          element.innerHTML = '';\n",
              "          dataTable['output_type'] = 'display_data';\n",
              "          await google.colab.output.renderOutput(dataTable, element);\n",
              "          const docLink = document.createElement('div');\n",
              "          docLink.innerHTML = docLinkHtml;\n",
              "          element.appendChild(docLink);\n",
              "        }\n",
              "      </script>\n",
              "    </div>\n",
              "  </div>\n",
              "  "
            ]
          },
          "metadata": {},
          "execution_count": 33
        }
      ],
      "source": [
        "#description of training dataset\n",
        "train.describe()"
      ]
    },
    {
      "cell_type": "code",
      "execution_count": null,
      "metadata": {
        "colab": {
          "base_uri": "https://localhost:8080/"
        },
        "id": "15GWdb_fLGh7",
        "outputId": "d1f1d2bb-a284-4e80-acf9-caa483dbf7ae"
      },
      "outputs": [
        {
          "output_type": "execute_result",
          "data": {
            "text/plain": [
              "(25010, 11)"
            ]
          },
          "metadata": {},
          "execution_count": 34
        }
      ],
      "source": [
        "#displaying shape of training dataset\n",
        "train.shape"
      ]
    },
    {
      "cell_type": "code",
      "execution_count": null,
      "metadata": {
        "colab": {
          "base_uri": "https://localhost:8080/",
          "height": 206
        },
        "id": "oX1vH5AhLhkd",
        "outputId": "da8e1cf4-6fb4-4c8a-fd88-54916c2f5225"
      },
      "outputs": [
        {
          "output_type": "execute_result",
          "data": {
            "text/plain": [
              "   S1  C1  S2  C2  S3  C3  S4  C4  S5  C5  Label\n",
              "0   1   1   1  13   2   4   2   3   1  12      0\n",
              "1   3  12   3   2   3  11   4   5   2   5      1\n",
              "2   1   9   4   6   1   4   3   2   3   9      1\n",
              "3   1   4   3  13   2  13   2   1   3   6      1\n",
              "4   3  10   2   7   1   2   2  11   4   9      0"
            ],
            "text/html": [
              "\n",
              "  <div id=\"df-e22517e6-af23-4e2d-a533-86efe1a7c3e5\">\n",
              "    <div class=\"colab-df-container\">\n",
              "      <div>\n",
              "<style scoped>\n",
              "    .dataframe tbody tr th:only-of-type {\n",
              "        vertical-align: middle;\n",
              "    }\n",
              "\n",
              "    .dataframe tbody tr th {\n",
              "        vertical-align: top;\n",
              "    }\n",
              "\n",
              "    .dataframe thead th {\n",
              "        text-align: right;\n",
              "    }\n",
              "</style>\n",
              "<table border=\"1\" class=\"dataframe\">\n",
              "  <thead>\n",
              "    <tr style=\"text-align: right;\">\n",
              "      <th></th>\n",
              "      <th>S1</th>\n",
              "      <th>C1</th>\n",
              "      <th>S2</th>\n",
              "      <th>C2</th>\n",
              "      <th>S3</th>\n",
              "      <th>C3</th>\n",
              "      <th>S4</th>\n",
              "      <th>C4</th>\n",
              "      <th>S5</th>\n",
              "      <th>C5</th>\n",
              "      <th>Label</th>\n",
              "    </tr>\n",
              "  </thead>\n",
              "  <tbody>\n",
              "    <tr>\n",
              "      <th>0</th>\n",
              "      <td>1</td>\n",
              "      <td>1</td>\n",
              "      <td>1</td>\n",
              "      <td>13</td>\n",
              "      <td>2</td>\n",
              "      <td>4</td>\n",
              "      <td>2</td>\n",
              "      <td>3</td>\n",
              "      <td>1</td>\n",
              "      <td>12</td>\n",
              "      <td>0</td>\n",
              "    </tr>\n",
              "    <tr>\n",
              "      <th>1</th>\n",
              "      <td>3</td>\n",
              "      <td>12</td>\n",
              "      <td>3</td>\n",
              "      <td>2</td>\n",
              "      <td>3</td>\n",
              "      <td>11</td>\n",
              "      <td>4</td>\n",
              "      <td>5</td>\n",
              "      <td>2</td>\n",
              "      <td>5</td>\n",
              "      <td>1</td>\n",
              "    </tr>\n",
              "    <tr>\n",
              "      <th>2</th>\n",
              "      <td>1</td>\n",
              "      <td>9</td>\n",
              "      <td>4</td>\n",
              "      <td>6</td>\n",
              "      <td>1</td>\n",
              "      <td>4</td>\n",
              "      <td>3</td>\n",
              "      <td>2</td>\n",
              "      <td>3</td>\n",
              "      <td>9</td>\n",
              "      <td>1</td>\n",
              "    </tr>\n",
              "    <tr>\n",
              "      <th>3</th>\n",
              "      <td>1</td>\n",
              "      <td>4</td>\n",
              "      <td>3</td>\n",
              "      <td>13</td>\n",
              "      <td>2</td>\n",
              "      <td>13</td>\n",
              "      <td>2</td>\n",
              "      <td>1</td>\n",
              "      <td>3</td>\n",
              "      <td>6</td>\n",
              "      <td>1</td>\n",
              "    </tr>\n",
              "    <tr>\n",
              "      <th>4</th>\n",
              "      <td>3</td>\n",
              "      <td>10</td>\n",
              "      <td>2</td>\n",
              "      <td>7</td>\n",
              "      <td>1</td>\n",
              "      <td>2</td>\n",
              "      <td>2</td>\n",
              "      <td>11</td>\n",
              "      <td>4</td>\n",
              "      <td>9</td>\n",
              "      <td>0</td>\n",
              "    </tr>\n",
              "  </tbody>\n",
              "</table>\n",
              "</div>\n",
              "      <button class=\"colab-df-convert\" onclick=\"convertToInteractive('df-e22517e6-af23-4e2d-a533-86efe1a7c3e5')\"\n",
              "              title=\"Convert this dataframe to an interactive table.\"\n",
              "              style=\"display:none;\">\n",
              "        \n",
              "  <svg xmlns=\"http://www.w3.org/2000/svg\" height=\"24px\"viewBox=\"0 0 24 24\"\n",
              "       width=\"24px\">\n",
              "    <path d=\"M0 0h24v24H0V0z\" fill=\"none\"/>\n",
              "    <path d=\"M18.56 5.44l.94 2.06.94-2.06 2.06-.94-2.06-.94-.94-2.06-.94 2.06-2.06.94zm-11 1L8.5 8.5l.94-2.06 2.06-.94-2.06-.94L8.5 2.5l-.94 2.06-2.06.94zm10 10l.94 2.06.94-2.06 2.06-.94-2.06-.94-.94-2.06-.94 2.06-2.06.94z\"/><path d=\"M17.41 7.96l-1.37-1.37c-.4-.4-.92-.59-1.43-.59-.52 0-1.04.2-1.43.59L10.3 9.45l-7.72 7.72c-.78.78-.78 2.05 0 2.83L4 21.41c.39.39.9.59 1.41.59.51 0 1.02-.2 1.41-.59l7.78-7.78 2.81-2.81c.8-.78.8-2.07 0-2.86zM5.41 20L4 18.59l7.72-7.72 1.47 1.35L5.41 20z\"/>\n",
              "  </svg>\n",
              "      </button>\n",
              "      \n",
              "  <style>\n",
              "    .colab-df-container {\n",
              "      display:flex;\n",
              "      flex-wrap:wrap;\n",
              "      gap: 12px;\n",
              "    }\n",
              "\n",
              "    .colab-df-convert {\n",
              "      background-color: #E8F0FE;\n",
              "      border: none;\n",
              "      border-radius: 50%;\n",
              "      cursor: pointer;\n",
              "      display: none;\n",
              "      fill: #1967D2;\n",
              "      height: 32px;\n",
              "      padding: 0 0 0 0;\n",
              "      width: 32px;\n",
              "    }\n",
              "\n",
              "    .colab-df-convert:hover {\n",
              "      background-color: #E2EBFA;\n",
              "      box-shadow: 0px 1px 2px rgba(60, 64, 67, 0.3), 0px 1px 3px 1px rgba(60, 64, 67, 0.15);\n",
              "      fill: #174EA6;\n",
              "    }\n",
              "\n",
              "    [theme=dark] .colab-df-convert {\n",
              "      background-color: #3B4455;\n",
              "      fill: #D2E3FC;\n",
              "    }\n",
              "\n",
              "    [theme=dark] .colab-df-convert:hover {\n",
              "      background-color: #434B5C;\n",
              "      box-shadow: 0px 1px 3px 1px rgba(0, 0, 0, 0.15);\n",
              "      filter: drop-shadow(0px 1px 2px rgba(0, 0, 0, 0.3));\n",
              "      fill: #FFFFFF;\n",
              "    }\n",
              "  </style>\n",
              "\n",
              "      <script>\n",
              "        const buttonEl =\n",
              "          document.querySelector('#df-e22517e6-af23-4e2d-a533-86efe1a7c3e5 button.colab-df-convert');\n",
              "        buttonEl.style.display =\n",
              "          google.colab.kernel.accessAllowed ? 'block' : 'none';\n",
              "\n",
              "        async function convertToInteractive(key) {\n",
              "          const element = document.querySelector('#df-e22517e6-af23-4e2d-a533-86efe1a7c3e5');\n",
              "          const dataTable =\n",
              "            await google.colab.kernel.invokeFunction('convertToInteractive',\n",
              "                                                     [key], {});\n",
              "          if (!dataTable) return;\n",
              "\n",
              "          const docLinkHtml = 'Like what you see? Visit the ' +\n",
              "            '<a target=\"_blank\" href=https://colab.research.google.com/notebooks/data_table.ipynb>data table notebook</a>'\n",
              "            + ' to learn more about interactive tables.';\n",
              "          element.innerHTML = '';\n",
              "          dataTable['output_type'] = 'display_data';\n",
              "          await google.colab.output.renderOutput(dataTable, element);\n",
              "          const docLink = document.createElement('div');\n",
              "          docLink.innerHTML = docLinkHtml;\n",
              "          element.appendChild(docLink);\n",
              "        }\n",
              "      </script>\n",
              "    </div>\n",
              "  </div>\n",
              "  "
            ]
          },
          "metadata": {},
          "execution_count": 35
        }
      ],
      "source": [
        "test.head()"
      ]
    },
    {
      "cell_type": "code",
      "execution_count": null,
      "metadata": {
        "colab": {
          "base_uri": "https://localhost:8080/",
          "height": 364
        },
        "id": "rEI_g__FLhbn",
        "outputId": "eb930940-5c12-4333-f40d-47f9eef7f868"
      },
      "outputs": [
        {
          "output_type": "execute_result",
          "data": {
            "text/plain": [
              "                   S1              C1              S2              C2  \\\n",
              "count  1000000.000000  1000000.000000  1000000.000000  1000000.000000   \n",
              "mean         2.500493        6.997927        2.499894        7.006097   \n",
              "std          1.117768        3.743374        1.118568        3.743481   \n",
              "min          1.000000        1.000000        1.000000        1.000000   \n",
              "25%          2.000000        4.000000        1.000000        4.000000   \n",
              "50%          3.000000        7.000000        3.000000        7.000000   \n",
              "75%          3.000000       10.000000        4.000000       10.000000   \n",
              "max          4.000000       13.000000        4.000000       13.000000   \n",
              "\n",
              "                   S3              C3              S4              C4  \\\n",
              "count  1000000.000000  1000000.000000  1000000.000000  1000000.000000   \n",
              "mean         2.500871        6.998873        2.500393        7.002298   \n",
              "std          1.118225        3.741890        1.117245        3.741270   \n",
              "min          1.000000        1.000000        1.000000        1.000000   \n",
              "25%          1.000000        4.000000        2.000000        4.000000   \n",
              "50%          3.000000        7.000000        3.000000        7.000000   \n",
              "75%          4.000000       10.000000        3.000000       10.000000   \n",
              "max          4.000000       13.000000        4.000000       13.000000   \n",
              "\n",
              "                   S5              C5           Label  \n",
              "count  1000000.000000  1000000.000000  1000000.000000  \n",
              "mean         2.499451        6.989481        0.616902  \n",
              "std          1.118948        3.739894        0.773377  \n",
              "min          1.000000        1.000000        0.000000  \n",
              "25%          1.000000        4.000000        0.000000  \n",
              "50%          2.000000        7.000000        0.000000  \n",
              "75%          4.000000       10.000000        1.000000  \n",
              "max          4.000000       13.000000        9.000000  "
            ],
            "text/html": [
              "\n",
              "  <div id=\"df-2149eed2-5b84-49cd-a807-b440d328dbd1\">\n",
              "    <div class=\"colab-df-container\">\n",
              "      <div>\n",
              "<style scoped>\n",
              "    .dataframe tbody tr th:only-of-type {\n",
              "        vertical-align: middle;\n",
              "    }\n",
              "\n",
              "    .dataframe tbody tr th {\n",
              "        vertical-align: top;\n",
              "    }\n",
              "\n",
              "    .dataframe thead th {\n",
              "        text-align: right;\n",
              "    }\n",
              "</style>\n",
              "<table border=\"1\" class=\"dataframe\">\n",
              "  <thead>\n",
              "    <tr style=\"text-align: right;\">\n",
              "      <th></th>\n",
              "      <th>S1</th>\n",
              "      <th>C1</th>\n",
              "      <th>S2</th>\n",
              "      <th>C2</th>\n",
              "      <th>S3</th>\n",
              "      <th>C3</th>\n",
              "      <th>S4</th>\n",
              "      <th>C4</th>\n",
              "      <th>S5</th>\n",
              "      <th>C5</th>\n",
              "      <th>Label</th>\n",
              "    </tr>\n",
              "  </thead>\n",
              "  <tbody>\n",
              "    <tr>\n",
              "      <th>count</th>\n",
              "      <td>1000000.000000</td>\n",
              "      <td>1000000.000000</td>\n",
              "      <td>1000000.000000</td>\n",
              "      <td>1000000.000000</td>\n",
              "      <td>1000000.000000</td>\n",
              "      <td>1000000.000000</td>\n",
              "      <td>1000000.000000</td>\n",
              "      <td>1000000.000000</td>\n",
              "      <td>1000000.000000</td>\n",
              "      <td>1000000.000000</td>\n",
              "      <td>1000000.000000</td>\n",
              "    </tr>\n",
              "    <tr>\n",
              "      <th>mean</th>\n",
              "      <td>2.500493</td>\n",
              "      <td>6.997927</td>\n",
              "      <td>2.499894</td>\n",
              "      <td>7.006097</td>\n",
              "      <td>2.500871</td>\n",
              "      <td>6.998873</td>\n",
              "      <td>2.500393</td>\n",
              "      <td>7.002298</td>\n",
              "      <td>2.499451</td>\n",
              "      <td>6.989481</td>\n",
              "      <td>0.616902</td>\n",
              "    </tr>\n",
              "    <tr>\n",
              "      <th>std</th>\n",
              "      <td>1.117768</td>\n",
              "      <td>3.743374</td>\n",
              "      <td>1.118568</td>\n",
              "      <td>3.743481</td>\n",
              "      <td>1.118225</td>\n",
              "      <td>3.741890</td>\n",
              "      <td>1.117245</td>\n",
              "      <td>3.741270</td>\n",
              "      <td>1.118948</td>\n",
              "      <td>3.739894</td>\n",
              "      <td>0.773377</td>\n",
              "    </tr>\n",
              "    <tr>\n",
              "      <th>min</th>\n",
              "      <td>1.000000</td>\n",
              "      <td>1.000000</td>\n",
              "      <td>1.000000</td>\n",
              "      <td>1.000000</td>\n",
              "      <td>1.000000</td>\n",
              "      <td>1.000000</td>\n",
              "      <td>1.000000</td>\n",
              "      <td>1.000000</td>\n",
              "      <td>1.000000</td>\n",
              "      <td>1.000000</td>\n",
              "      <td>0.000000</td>\n",
              "    </tr>\n",
              "    <tr>\n",
              "      <th>25%</th>\n",
              "      <td>2.000000</td>\n",
              "      <td>4.000000</td>\n",
              "      <td>1.000000</td>\n",
              "      <td>4.000000</td>\n",
              "      <td>1.000000</td>\n",
              "      <td>4.000000</td>\n",
              "      <td>2.000000</td>\n",
              "      <td>4.000000</td>\n",
              "      <td>1.000000</td>\n",
              "      <td>4.000000</td>\n",
              "      <td>0.000000</td>\n",
              "    </tr>\n",
              "    <tr>\n",
              "      <th>50%</th>\n",
              "      <td>3.000000</td>\n",
              "      <td>7.000000</td>\n",
              "      <td>3.000000</td>\n",
              "      <td>7.000000</td>\n",
              "      <td>3.000000</td>\n",
              "      <td>7.000000</td>\n",
              "      <td>3.000000</td>\n",
              "      <td>7.000000</td>\n",
              "      <td>2.000000</td>\n",
              "      <td>7.000000</td>\n",
              "      <td>0.000000</td>\n",
              "    </tr>\n",
              "    <tr>\n",
              "      <th>75%</th>\n",
              "      <td>3.000000</td>\n",
              "      <td>10.000000</td>\n",
              "      <td>4.000000</td>\n",
              "      <td>10.000000</td>\n",
              "      <td>4.000000</td>\n",
              "      <td>10.000000</td>\n",
              "      <td>3.000000</td>\n",
              "      <td>10.000000</td>\n",
              "      <td>4.000000</td>\n",
              "      <td>10.000000</td>\n",
              "      <td>1.000000</td>\n",
              "    </tr>\n",
              "    <tr>\n",
              "      <th>max</th>\n",
              "      <td>4.000000</td>\n",
              "      <td>13.000000</td>\n",
              "      <td>4.000000</td>\n",
              "      <td>13.000000</td>\n",
              "      <td>4.000000</td>\n",
              "      <td>13.000000</td>\n",
              "      <td>4.000000</td>\n",
              "      <td>13.000000</td>\n",
              "      <td>4.000000</td>\n",
              "      <td>13.000000</td>\n",
              "      <td>9.000000</td>\n",
              "    </tr>\n",
              "  </tbody>\n",
              "</table>\n",
              "</div>\n",
              "      <button class=\"colab-df-convert\" onclick=\"convertToInteractive('df-2149eed2-5b84-49cd-a807-b440d328dbd1')\"\n",
              "              title=\"Convert this dataframe to an interactive table.\"\n",
              "              style=\"display:none;\">\n",
              "        \n",
              "  <svg xmlns=\"http://www.w3.org/2000/svg\" height=\"24px\"viewBox=\"0 0 24 24\"\n",
              "       width=\"24px\">\n",
              "    <path d=\"M0 0h24v24H0V0z\" fill=\"none\"/>\n",
              "    <path d=\"M18.56 5.44l.94 2.06.94-2.06 2.06-.94-2.06-.94-.94-2.06-.94 2.06-2.06.94zm-11 1L8.5 8.5l.94-2.06 2.06-.94-2.06-.94L8.5 2.5l-.94 2.06-2.06.94zm10 10l.94 2.06.94-2.06 2.06-.94-2.06-.94-.94-2.06-.94 2.06-2.06.94z\"/><path d=\"M17.41 7.96l-1.37-1.37c-.4-.4-.92-.59-1.43-.59-.52 0-1.04.2-1.43.59L10.3 9.45l-7.72 7.72c-.78.78-.78 2.05 0 2.83L4 21.41c.39.39.9.59 1.41.59.51 0 1.02-.2 1.41-.59l7.78-7.78 2.81-2.81c.8-.78.8-2.07 0-2.86zM5.41 20L4 18.59l7.72-7.72 1.47 1.35L5.41 20z\"/>\n",
              "  </svg>\n",
              "      </button>\n",
              "      \n",
              "  <style>\n",
              "    .colab-df-container {\n",
              "      display:flex;\n",
              "      flex-wrap:wrap;\n",
              "      gap: 12px;\n",
              "    }\n",
              "\n",
              "    .colab-df-convert {\n",
              "      background-color: #E8F0FE;\n",
              "      border: none;\n",
              "      border-radius: 50%;\n",
              "      cursor: pointer;\n",
              "      display: none;\n",
              "      fill: #1967D2;\n",
              "      height: 32px;\n",
              "      padding: 0 0 0 0;\n",
              "      width: 32px;\n",
              "    }\n",
              "\n",
              "    .colab-df-convert:hover {\n",
              "      background-color: #E2EBFA;\n",
              "      box-shadow: 0px 1px 2px rgba(60, 64, 67, 0.3), 0px 1px 3px 1px rgba(60, 64, 67, 0.15);\n",
              "      fill: #174EA6;\n",
              "    }\n",
              "\n",
              "    [theme=dark] .colab-df-convert {\n",
              "      background-color: #3B4455;\n",
              "      fill: #D2E3FC;\n",
              "    }\n",
              "\n",
              "    [theme=dark] .colab-df-convert:hover {\n",
              "      background-color: #434B5C;\n",
              "      box-shadow: 0px 1px 3px 1px rgba(0, 0, 0, 0.15);\n",
              "      filter: drop-shadow(0px 1px 2px rgba(0, 0, 0, 0.3));\n",
              "      fill: #FFFFFF;\n",
              "    }\n",
              "  </style>\n",
              "\n",
              "      <script>\n",
              "        const buttonEl =\n",
              "          document.querySelector('#df-2149eed2-5b84-49cd-a807-b440d328dbd1 button.colab-df-convert');\n",
              "        buttonEl.style.display =\n",
              "          google.colab.kernel.accessAllowed ? 'block' : 'none';\n",
              "\n",
              "        async function convertToInteractive(key) {\n",
              "          const element = document.querySelector('#df-2149eed2-5b84-49cd-a807-b440d328dbd1');\n",
              "          const dataTable =\n",
              "            await google.colab.kernel.invokeFunction('convertToInteractive',\n",
              "                                                     [key], {});\n",
              "          if (!dataTable) return;\n",
              "\n",
              "          const docLinkHtml = 'Like what you see? Visit the ' +\n",
              "            '<a target=\"_blank\" href=https://colab.research.google.com/notebooks/data_table.ipynb>data table notebook</a>'\n",
              "            + ' to learn more about interactive tables.';\n",
              "          element.innerHTML = '';\n",
              "          dataTable['output_type'] = 'display_data';\n",
              "          await google.colab.output.renderOutput(dataTable, element);\n",
              "          const docLink = document.createElement('div');\n",
              "          docLink.innerHTML = docLinkHtml;\n",
              "          element.appendChild(docLink);\n",
              "        }\n",
              "      </script>\n",
              "    </div>\n",
              "  </div>\n",
              "  "
            ]
          },
          "metadata": {},
          "execution_count": 36
        }
      ],
      "source": [
        "#decription of testing dataset\n",
        "test.describe()"
      ]
    },
    {
      "cell_type": "code",
      "execution_count": null,
      "metadata": {
        "colab": {
          "base_uri": "https://localhost:8080/"
        },
        "id": "pj0VSN6ELhUL",
        "outputId": "907179c2-57b8-4ba2-fdd3-a997853bacbe"
      },
      "outputs": [
        {
          "output_type": "execute_result",
          "data": {
            "text/plain": [
              "(1000000, 11)"
            ]
          },
          "metadata": {},
          "execution_count": 37
        }
      ],
      "source": [
        "#displaying shape of testing dataset\n",
        "test.shape"
      ]
    },
    {
      "cell_type": "code",
      "source": [
        "#Checking for null values in training dataset\n",
        "train.isnull().sum()"
      ],
      "metadata": {
        "colab": {
          "base_uri": "https://localhost:8080/"
        },
        "id": "DnWEN2g22YZf",
        "outputId": "af33b7b5-59ef-4148-d763-9b4a9a78571d"
      },
      "execution_count": null,
      "outputs": [
        {
          "output_type": "execute_result",
          "data": {
            "text/plain": [
              "S1       0\n",
              "C1       0\n",
              "S2       0\n",
              "C2       0\n",
              "S3       0\n",
              "C3       0\n",
              "S4       0\n",
              "C4       0\n",
              "S5       0\n",
              "C5       0\n",
              "Label    0\n",
              "dtype: int64"
            ]
          },
          "metadata": {},
          "execution_count": 38
        }
      ]
    },
    {
      "cell_type": "code",
      "source": [
        "#checking for null values in testing dataset\n",
        "test.isnull().sum()"
      ],
      "metadata": {
        "colab": {
          "base_uri": "https://localhost:8080/"
        },
        "id": "B4yIcJGa2YWI",
        "outputId": "30a21c2b-471c-4247-ebfb-f4a608d4c868"
      },
      "execution_count": null,
      "outputs": [
        {
          "output_type": "execute_result",
          "data": {
            "text/plain": [
              "S1       0\n",
              "C1       0\n",
              "S2       0\n",
              "C2       0\n",
              "S3       0\n",
              "C3       0\n",
              "S4       0\n",
              "C4       0\n",
              "S5       0\n",
              "C5       0\n",
              "Label    0\n",
              "dtype: int64"
            ]
          },
          "metadata": {},
          "execution_count": 39
        }
      ]
    },
    {
      "cell_type": "markdown",
      "source": [
        "No null values in training and testing dataset"
      ],
      "metadata": {
        "id": "bkvxTuhztikm"
      }
    },
    {
      "cell_type": "code",
      "execution_count": null,
      "metadata": {
        "colab": {
          "base_uri": "https://localhost:8080/",
          "height": 283
        },
        "id": "wHEEFRXWMQDs",
        "outputId": "bb9c9ab5-cb8e-4d92-9eae-774201ac163c"
      },
      "outputs": [
        {
          "output_type": "execute_result",
          "data": {
            "text/plain": [
              "<matplotlib.axes._subplots.AxesSubplot at 0x7f572befa290>"
            ]
          },
          "metadata": {},
          "execution_count": 40
        },
        {
          "output_type": "display_data",
          "data": {
            "text/plain": [
              "<Figure size 432x288 with 1 Axes>"
            ],
            "image/png": "[encoded data removed]"
          },
          "metadata": {
            "needs_background": "light"
          }
        }
      ],
      "source": [
        "#visualization of traning dataset\n",
        "train['Label'].hist()"
      ]
    },
    {
      "cell_type": "code",
      "execution_count": null,
      "metadata": {
        "colab": {
          "base_uri": "https://localhost:8080/",
          "height": 283
        },
        "id": "gtF4UjsHMW5Y",
        "outputId": "25d68fde-f746-4cb8-9880-027d660f6e77"
      },
      "outputs": [
        {
          "output_type": "execute_result",
          "data": {
            "text/plain": [
              "<matplotlib.axes._subplots.AxesSubplot at 0x7f572bec7e10>"
            ]
          },
          "metadata": {},
          "execution_count": 41
        },
        {
          "output_type": "display_data",
          "data": {
            "text/plain": [
              "<Figure size 432x288 with 1 Axes>"
            ],
            "image/png": "[encoded data removed]"
          },
          "metadata": {
            "needs_background": "light"
          }
        }
      ],
      "source": [
        "#visualization of testing dataset\n",
        "test['Label'].hist()"
      ]
    },
    {
      "cell_type": "code",
      "execution_count": null,
      "metadata": {
        "id": "k69FFvxwMdFP"
      },
      "outputs": [],
      "source": [
        "#Extracting dataset \n",
        "X_train = train.loc[:,train.columns != 'Label']\n",
        "X_test = test.loc[:,train.columns != 'Label']"
      ]
    },
    {
      "cell_type": "code",
      "execution_count": null,
      "metadata": {
        "id": "Psu--ZAXMdB2"
      },
      "outputs": [],
      "source": [
        "#scaling dataset using standard scaler\n",
        "scaler = StandardScaler()\n",
        "scaler.fit(X_train)\n",
        "X_train = scaler.transform(X_train)\n",
        "X_test = scaler.transform(X_test)\n",
        "y_train = train['Label']\n",
        "y_test = test['Label']"
      ]
    },
    {
      "cell_type": "markdown",
      "source": [
        "**KNN - K Nearest Neighbors classifier**"
      ],
      "metadata": {
        "id": "eJYfDZfa7dqM"
      }
    },
    {
      "cell_type": "code",
      "execution_count": null,
      "metadata": {
        "colab": {
          "base_uri": "https://localhost:8080/"
        },
        "id": "jfVaSNqRMc_x",
        "outputId": "5bc56e47-136f-427e-9107-d21cb5e92590"
      },
      "outputs": [
        {
          "name": "stdout",
          "output_type": "stream",
          "text": [
            "Fitting 3 folds for each of 10 candidates, totalling 30 fits\n",
            "Fitting 3 folds for each of 10 candidates, totalling 30 fits\n",
            "Fitting 3 folds for each of 10 candidates, totalling 30 fits\n",
            "[0.54540002 0.54372076 0.54258637]\n"
          ]
        }
      ],
      "source": [
        "#starting the KNN model\n",
        "knn = KNeighborsClassifier()\n",
        "paramKnn = {'n_neighbors':[5,10,40,80,100,150,200], 'leaf_size':[1,2,3,5], 'n_jobs':[-1]}\n",
        "model_names = [\"KNN\"]\n",
        "#tuning KNN with sklearn using RandomSearchCV\n",
        "#setting cross validation = 3\n",
        "knn3 = RandomizedSearchCV(estimator = knn, param_distributions = paramKnn, cv = 3, n_jobs =-1, verbose = 2)\n",
        "cv_3 = cross_val_score(knn3, X_train, y_train, cv=3)\n",
        "print(cv_3)"
      ]
    },
    {
      "cell_type": "code",
      "execution_count": null,
      "metadata": {
        "colab": {
          "background_save": true,
          "base_uri": "https://localhost:8080/"
        },
        "id": "u-pZPLJ0Mc9g",
        "outputId": "f7a3c1f3-a4a5-43f2-93c9-10946cd172f9"
      },
      "outputs": [
        {
          "name": "stdout",
          "output_type": "stream",
          "text": [
            "Fitting 3 folds for each of 10 candidates, totalling 30 fits\n",
            "{'n_neighbors': 100, 'n_jobs': -1, 'leaf_size': 1}\n",
            "Accuracy Using0.545692\n",
            "\n"
          ]
        },
        {
          "name": "stderr",
          "output_type": "stream",
          "text": [
            "/usr/local/lib/python3.7/dist-packages/sklearn/metrics/_classification.py:1318: UndefinedMetricWarning: Precision and F-score are ill-defined and being set to 0.0 in labels with no predicted samples. Use `zero_division` parameter to control this behavior.\n",
            "  _warn_prf(average, modifier, msg_start, len(result))\n",
            "/usr/local/lib/python3.7/dist-packages/sklearn/metrics/_classification.py:1318: UndefinedMetricWarning: Precision and F-score are ill-defined and being set to 0.0 in labels with no predicted samples. Use `zero_division` parameter to control this behavior.\n",
            "  _warn_prf(average, modifier, msg_start, len(result))\n"
          ]
        },
        {
          "name": "stdout",
          "output_type": "stream",
          "text": [
            "              precision    recall  f1-score   support\n",
            "\n",
            "           0       0.56      0.79      0.66    501209\n",
            "           1       0.51      0.35      0.42    422498\n",
            "           2       0.00      0.00      0.00     47622\n",
            "           3       0.00      0.00      0.00     21121\n",
            "           4       0.00      0.00      0.00      3885\n",
            "           5       0.00      0.00      0.00      1996\n",
            "           6       0.00      0.00      0.00      1424\n",
            "           7       0.00      0.00      0.00       230\n",
            "           8       0.00      0.00      0.00        12\n",
            "           9       0.00      0.00      0.00         3\n",
            "\n",
            "    accuracy                           0.55   1000000\n",
            "   macro avg       0.11      0.11      0.11   1000000\n",
            "weighted avg       0.50      0.55      0.51   1000000\n",
            "\n",
            "[[396749 104460      0      0      0      0      0      0      0      0]\n",
            " [273555 148943      0      0      0      0      0      0      0      0]\n",
            " [ 25295  22327      0      0      0      0      0      0      0      0]\n",
            " [  8313  12808      0      0      0      0      0      0      0      0]\n",
            " [   442   3443      0      0      0      0      0      0      0      0]\n",
            " [  1833    163      0      0      0      0      0      0      0      0]\n",
            " [   497    927      0      0      0      0      0      0      0      0]\n",
            " [    22    208      0      0      0      0      0      0      0      0]\n",
            " [     5      7      0      0      0      0      0      0      0      0]\n",
            " [     2      1      0      0      0      0      0      0      0      0]]\n"
          ]
        },
        {
          "name": "stderr",
          "output_type": "stream",
          "text": [
            "/usr/local/lib/python3.7/dist-packages/sklearn/metrics/_classification.py:1318: UndefinedMetricWarning: Precision and F-score are ill-defined and being set to 0.0 in labels with no predicted samples. Use `zero_division` parameter to control this behavior.\n",
            "  _warn_prf(average, modifier, msg_start, len(result))\n"
          ]
        }
      ],
      "source": [
        "#fitting the KNN model\n",
        "knn3.fit(X_train, y_train)\n",
        "print(knn3.best_params_)\n",
        "best_random =knn3.best_estimator_\n",
        "best_random.fit(X_train, y_train)\n",
        "y_pred3=best_random.predict(X_test)\n",
        "#displaying the accuracy\n",
        "a = accuracy_score(y_test, y_pred3)\n",
        "print(\"Accuracy Using\" + str(a)+'\\n')\n",
        "print(classification_report(y_test,y_pred3))\n",
        "print(confusion_matrix(y_test, y_pred3))"
      ]
    },
    {
      "cell_type": "code",
      "execution_count": null,
      "metadata": {
        "colab": {
          "base_uri": "https://localhost:8080/",
          "height": 416
        },
        "id": "r2dUylGCMc7K",
        "outputId": "4deaf8a4-8ec9-4761-a5d0-2801d21ba883"
      },
      "outputs": [
        {
          "name": "stdout",
          "output_type": "stream",
          "text": [
            "Fitting 3 folds for each of 10 candidates, totalling 30 fits\n",
            "Fitting 3 folds for each of 10 candidates, totalling 30 fits\n",
            "Fitting 3 folds for each of 10 candidates, totalling 30 fits\n",
            "Fitting 3 folds for each of 10 candidates, totalling 30 fits\n",
            "Fitting 3 folds for each of 10 candidates, totalling 30 fits\n",
            "Fitting 3 folds for each of 10 candidates, totalling 30 fits\n",
            "Fitting 3 folds for each of 10 candidates, totalling 30 fits\n"
          ]
        },
        {
          "data": {
            "image/png": "[encoded data removed]",
            "text/plain": [
              "<Figure size 432x288 with 1 Axes>"
            ]
          },
          "metadata": {},
          "output_type": "display_data"
        }
      ],
      "source": [
        "#storing train and test data where cv=3 in array\n",
        "n_neighbors_KNN = [5,10,40,80,100,150,200]\n",
        "train_accuracy = np.empty(len(n_neighbors_KNN))\n",
        "test_accuracy = np.empty(len(n_neighbors_KNN))\n",
        "\n",
        "for i, k in enumerate(n_neighbors_KNN):\n",
        "  clf_KNN = RandomizedSearchCV(estimator = KNeighborsClassifier(k), param_distributions = paramKnn, cv = 3, n_jobs = -1, verbose = 2)\n",
        "  clf_KNN.fit(X_train, y_train)\n",
        "  train_accuracy[i] = clf_KNN.score(X_train, y_train)\n",
        "  test_accuracy[i] = clf_KNN.score(X_test, y_test)\n",
        "\n",
        "  #plotting the accuracy for cv = 3\n",
        "plt.title('KNN: varying number of estimators')\n",
        "plt.plot(n_neighbors_KNN, test_accuracy, label = 'testing accuracy')\n",
        "plt.plot(n_neighbors_KNN, train_accuracy, label = 'training accuracy')\n",
        "plt.legend()\n",
        "plt.xlabel('number of neighbors')\n",
        "plt.ylabel('accuracy')\n",
        "plt.show()"
      ]
    },
    {
      "cell_type": "code",
      "execution_count": null,
      "metadata": {
        "colab": {
          "base_uri": "https://localhost:8080/"
        },
        "id": "7kLoWnDlMc45",
        "outputId": "50235c4a-5f47-4740-c4e3-21590b455003"
      },
      "outputs": [
        {
          "name": "stdout",
          "output_type": "stream",
          "text": [
            "Fitting 10 folds for each of 10 candidates, totalling 100 fits\n"
          ]
        },
        {
          "name": "stderr",
          "output_type": "stream",
          "text": [
            "/usr/local/lib/python3.7/dist-packages/sklearn/model_selection/_split.py:680: UserWarning: The least populated class in y has only 3 members, which is less than n_splits=10.\n",
            "  UserWarning,\n"
          ]
        },
        {
          "name": "stdout",
          "output_type": "stream",
          "text": [
            "Fitting 10 folds for each of 10 candidates, totalling 100 fits\n"
          ]
        },
        {
          "name": "stderr",
          "output_type": "stream",
          "text": [
            "/usr/local/lib/python3.7/dist-packages/sklearn/model_selection/_split.py:680: UserWarning: The least populated class in y has only 3 members, which is less than n_splits=10.\n",
            "  UserWarning,\n"
          ]
        },
        {
          "name": "stdout",
          "output_type": "stream",
          "text": [
            "Fitting 10 folds for each of 10 candidates, totalling 100 fits\n"
          ]
        },
        {
          "name": "stderr",
          "output_type": "stream",
          "text": [
            "/usr/local/lib/python3.7/dist-packages/sklearn/model_selection/_split.py:680: UserWarning: The least populated class in y has only 3 members, which is less than n_splits=10.\n",
            "  UserWarning,\n"
          ]
        },
        {
          "name": "stdout",
          "output_type": "stream",
          "text": [
            "[0.54575987 0.54372076 0.5475048 ]\n"
          ]
        }
      ],
      "source": [
        "#starting KNN model for cv = 10\n",
        "knn = KNeighborsClassifier()\n",
        "paramKnn ={'n_neighbors':[5,10,40,80,100,150,200], 'leaf_size':[1,2,3,5], 'n_jobs':[-1]}\n",
        "model_names = [\"KNN\"]\n",
        "knn10 = RandomizedSearchCV(estimator = knn, param_distributions = paramKnn, cv = 10, n_jobs = -1, verbose = 2)\n",
        "cv_10 = cross_val_score(knn10, X_train, y_train,cv=3)\n",
        "print(cv_10)"
      ]
    },
    {
      "cell_type": "code",
      "execution_count": null,
      "metadata": {
        "colab": {
          "base_uri": "https://localhost:8080/"
        },
        "id": "jjt5Z8c0Mc2a",
        "outputId": "e27a138a-f49c-4c5b-e89a-52ebd8644a5c"
      },
      "outputs": [
        {
          "name": "stdout",
          "output_type": "stream",
          "text": [
            "Fitting 10 folds for each of 10 candidates, totalling 100 fits\n"
          ]
        },
        {
          "name": "stderr",
          "output_type": "stream",
          "text": [
            "/usr/local/lib/python3.7/dist-packages/sklearn/model_selection/_split.py:680: UserWarning: The least populated class in y has only 5 members, which is less than n_splits=10.\n",
            "  UserWarning,\n"
          ]
        },
        {
          "name": "stdout",
          "output_type": "stream",
          "text": [
            "{'n_neighbors': 200, 'n_jobs': -1, 'leaf_size': 5}\n",
            "accuracy using0.548308\n",
            "\n"
          ]
        },
        {
          "name": "stderr",
          "output_type": "stream",
          "text": [
            "/usr/local/lib/python3.7/dist-packages/sklearn/metrics/_classification.py:1318: UndefinedMetricWarning: Precision and F-score are ill-defined and being set to 0.0 in labels with no predicted samples. Use `zero_division` parameter to control this behavior.\n",
            "  _warn_prf(average, modifier, msg_start, len(result))\n",
            "/usr/local/lib/python3.7/dist-packages/sklearn/metrics/_classification.py:1318: UndefinedMetricWarning: Precision and F-score are ill-defined and being set to 0.0 in labels with no predicted samples. Use `zero_division` parameter to control this behavior.\n",
            "  _warn_prf(average, modifier, msg_start, len(result))\n"
          ]
        },
        {
          "name": "stdout",
          "output_type": "stream",
          "text": [
            "              precision    recall  f1-score   support\n",
            "\n",
            "           0       0.56      0.83      0.67    501209\n",
            "           1       0.52      0.32      0.39    422498\n",
            "           2       0.00      0.00      0.00     47622\n",
            "           3       0.00      0.00      0.00     21121\n",
            "           4       0.00      0.00      0.00      3885\n",
            "           5       0.00      0.00      0.00      1996\n",
            "           6       0.00      0.00      0.00      1424\n",
            "           7       0.00      0.00      0.00       230\n",
            "           8       0.00      0.00      0.00        12\n",
            "           9       0.00      0.00      0.00         3\n",
            "\n",
            "    accuracy                           0.55   1000000\n",
            "   macro avg       0.11      0.11      0.11   1000000\n",
            "weighted avg       0.50      0.55      0.50   1000000\n",
            "\n",
            "[[413515  87694      0      0      0      0      0      0      0      0]\n",
            " [287705 134793      0      0      0      0      0      0      0      0]\n",
            " [ 26292  21330      0      0      0      0      0      0      0      0]\n",
            " [  9041  12080      0      0      0      0      0      0      0      0]\n",
            " [   487   3398      0      0      0      0      0      0      0      0]\n",
            " [  1862    134      0      0      0      0      0      0      0      0]\n",
            " [   517    907      0      0      0      0      0      0      0      0]\n",
            " [    26    204      0      0      0      0      0      0      0      0]\n",
            " [     4      8      0      0      0      0      0      0      0      0]\n",
            " [     3      0      0      0      0      0      0      0      0      0]]\n"
          ]
        },
        {
          "name": "stderr",
          "output_type": "stream",
          "text": [
            "/usr/local/lib/python3.7/dist-packages/sklearn/metrics/_classification.py:1318: UndefinedMetricWarning: Precision and F-score are ill-defined and being set to 0.0 in labels with no predicted samples. Use `zero_division` parameter to control this behavior.\n",
            "  _warn_prf(average, modifier, msg_start, len(result))\n"
          ]
        }
      ],
      "source": [
        "#fitting model for cv = 10\n",
        "knn10.fit(X_train, y_train)\n",
        "print(knn10.best_params_)\n",
        "best_random =knn10.best_estimator_\n",
        "best_random.fit(X_train, y_train)\n",
        "y_pred10=best_random.predict(X_test)\n",
        "a = accuracy_score(y_test, y_pred10)\n",
        "print('accuracy using' + str(a)+'\\n')\n",
        "print(classification_report(y_test,y_pred10))\n",
        "print(confusion_matrix(y_test, y_pred10))"
      ]
    },
    {
      "cell_type": "code",
      "execution_count": null,
      "metadata": {
        "colab": {
          "base_uri": "https://localhost:8080/",
          "height": 659
        },
        "id": "fwQzCeWSMc0Y",
        "outputId": "8b57c01d-157c-430c-ccd7-10777121a4bc"
      },
      "outputs": [
        {
          "metadata": {
            "tags": null
          },
          "name": "stdout",
          "output_type": "stream",
          "text": [
            "Fitting 10 folds for each of 10 candidates, totalling 100 fits\n"
          ]
        },
        {
          "metadata": {
            "tags": null
          },
          "name": "stderr",
          "output_type": "stream",
          "text": [
            "/usr/local/lib/python3.7/dist-packages/sklearn/model_selection/_split.py:680: UserWarning: The least populated class in y has only 5 members, which is less than n_splits=10.\n",
            "  UserWarning,\n"
          ]
        },
        {
          "metadata": {
            "tags": null
          },
          "name": "stdout",
          "output_type": "stream",
          "text": [
            "Fitting 10 folds for each of 10 candidates, totalling 100 fits\n"
          ]
        },
        {
          "metadata": {
            "tags": null
          },
          "name": "stderr",
          "output_type": "stream",
          "text": [
            "/usr/local/lib/python3.7/dist-packages/sklearn/model_selection/_split.py:680: UserWarning: The least populated class in y has only 5 members, which is less than n_splits=10.\n",
            "  UserWarning,\n"
          ]
        },
        {
          "metadata": {
            "tags": null
          },
          "name": "stdout",
          "output_type": "stream",
          "text": [
            "Fitting 10 folds for each of 10 candidates, totalling 100 fits\n"
          ]
        },
        {
          "metadata": {
            "tags": null
          },
          "name": "stderr",
          "output_type": "stream",
          "text": [
            "/usr/local/lib/python3.7/dist-packages/sklearn/model_selection/_split.py:680: UserWarning: The least populated class in y has only 5 members, which is less than n_splits=10.\n",
            "  UserWarning,\n"
          ]
        },
        {
          "metadata": {
            "tags": null
          },
          "name": "stdout",
          "output_type": "stream",
          "text": [
            "Fitting 10 folds for each of 10 candidates, totalling 100 fits\n"
          ]
        },
        {
          "metadata": {
            "tags": null
          },
          "name": "stderr",
          "output_type": "stream",
          "text": [
            "/usr/local/lib/python3.7/dist-packages/sklearn/model_selection/_split.py:680: UserWarning: The least populated class in y has only 5 members, which is less than n_splits=10.\n",
            "  UserWarning,\n"
          ]
        },
        {
          "metadata": {
            "tags": null
          },
          "name": "stdout",
          "output_type": "stream",
          "text": [
            "Fitting 10 folds for each of 10 candidates, totalling 100 fits\n"
          ]
        },
        {
          "metadata": {
            "tags": null
          },
          "name": "stderr",
          "output_type": "stream",
          "text": [
            "/usr/local/lib/python3.7/dist-packages/sklearn/model_selection/_split.py:680: UserWarning: The least populated class in y has only 5 members, which is less than n_splits=10.\n",
            "  UserWarning,\n"
          ]
        },
        {
          "metadata": {
            "tags": null
          },
          "name": "stdout",
          "output_type": "stream",
          "text": [
            "Fitting 10 folds for each of 10 candidates, totalling 100 fits\n"
          ]
        },
        {
          "metadata": {
            "tags": null
          },
          "name": "stderr",
          "output_type": "stream",
          "text": [
            "/usr/local/lib/python3.7/dist-packages/sklearn/model_selection/_split.py:680: UserWarning: The least populated class in y has only 5 members, which is less than n_splits=10.\n",
            "  UserWarning,\n"
          ]
        },
        {
          "metadata": {
            "tags": null
          },
          "name": "stdout",
          "output_type": "stream",
          "text": [
            "Fitting 10 folds for each of 10 candidates, totalling 100 fits\n"
          ]
        },
        {
          "metadata": {
            "tags": null
          },
          "name": "stderr",
          "output_type": "stream",
          "text": [
            "/usr/local/lib/python3.7/dist-packages/sklearn/model_selection/_split.py:680: UserWarning: The least populated class in y has only 5 members, which is less than n_splits=10.\n",
            "  UserWarning,\n"
          ]
        },
        {
          "output_type": "display_data",
          "data": {
            "text/plain": [
              "<Figure size 432x288 with 1 Axes>"
            ],
            "image/png": "[encoded data removed]"
          },
          "metadata": {
            "needs_background": "light"
          }
        }
      ],
      "source": [
        "#storing train and test data where cv = 10 in array\n",
        "n_neighbors_KNN = [5,10,40,80,100,150,200]\n",
        "train_accuracy = np.empty(len(n_neighbors_KNN))\n",
        "test_accuracy = np.empty(len(n_neighbors_KNN))\n",
        "\n",
        "for i,k in enumerate(n_neighbors_KNN):\n",
        "  clf_KNN = RandomizedSearchCV(estimator = KNeighborsClassifier(k), param_distributions = paramKnn,  cv = 10, n_jobs = -1, verbose = 2)\n",
        "  clf_KNN.fit(X_train, y_train)\n",
        "  train_accuracy[i] = clf_KNN.score(X_train, y_train)\n",
        "  test_accuracy[i] = clf_KNN.score(X_test, y_test)\n",
        "  \n",
        "#plotting the accuracy for cv =10\n",
        "plt.title('KNN:mvarying number of estimators, cv=10')\n",
        "plt.plot(n_neighbors_KNN, test_accuracy, label = 'testing accuracy')\n",
        "plt.plot(n_neighbors_KNN, train_accuracy, label = 'training accuracy')\n",
        "plt.legend()\n",
        "plt.xlabel('number of neighbors')\n",
        "plt.show()\n"
      ]
    },
    {
      "cell_type": "markdown",
      "source": [
        "Accuracy I got in KNN model is around 55%"
      ],
      "metadata": {
        "id": "Vb2tfcEi0Tg3"
      }
    },
    {
      "cell_type": "markdown",
      "source": [
        "**SVM - Support Vector Machine**"
      ],
      "metadata": {
        "id": "0qRl-rON0PBZ"
      }
    },
    {
      "cell_type": "code",
      "execution_count": null,
      "metadata": {
        "id": "-5nZR3ZsMcx1"
      },
      "outputs": [],
      "source": [
        "#starting SVM for cv = 3\n",
        "paramSVM = { 'C':[0.1, 1, 10], 'gamma':[0.00001, 0.0001, 0.001, 0.01, 0.1], 'decision_function_shape':['ovr'] }\n",
        "svm = SVC()\n",
        "svmsearch3 = RandomizedSearchCV(estimator = svm, param_distributions = paramSVM, cv = 3, n_jobs = -1, verbose = 2)\n"
      ]
    },
    {
      "cell_type": "code",
      "execution_count": null,
      "metadata": {
        "id": "lt9K3bngMcvX",
        "colab": {
          "base_uri": "https://localhost:8080/"
        },
        "outputId": "8446cdbf-86db-4927-fe9f-c55c4aa20ca8"
      },
      "outputs": [
        {
          "output_type": "stream",
          "name": "stdout",
          "text": [
            "Fitting 3 folds for each of 10 candidates, totalling 30 fits\n",
            "best CV3 params {'gamma': 0.1, 'decision_function_shape': 'ovr', 'C': 10}\n",
            "best CV3 accuracy 0.5556973933388695\n",
            "accuracy of svm_3 classifier: 0.560\n"
          ]
        }
      ],
      "source": [
        "#fitting SVM model\n",
        "svm_3 = svmsearch3.fit(X_train, y_train)\n",
        "print(\"best CV3 params\", svm_3.best_params_)\n",
        "print(\"best CV3 accuracy\", svm_3.best_score_)\n",
        "y_predsvm3 = svm_3.predict(X_test)\n",
        "accuracysvm3 = accuracy_score(y_test, y_predsvm3)\n",
        "print('accuracy of svm_3 classifier: {:.3f}'.format(accuracysvm3))"
      ]
    },
    {
      "cell_type": "code",
      "execution_count": null,
      "metadata": {
        "id": "i17OgYHMMctA",
        "colab": {
          "base_uri": "https://localhost:8080/"
        },
        "outputId": "30d62a9b-1270-417c-e35f-cdb9f3d673ca"
      },
      "outputs": [
        {
          "output_type": "execute_result",
          "data": {
            "text/plain": [
              "array([0, 1, 2, 3, 4, 5, 6, 7, 8, 9])"
            ]
          },
          "metadata": {},
          "execution_count": 37
        }
      ],
      "source": [
        "np.unique(y_predsvm3)"
      ]
    },
    {
      "cell_type": "code",
      "source": [
        "#plotting svm model where cv = 3\n",
        "plt.plot(y_test, 'bo', label = 'actual')\n",
        "plt.plot(y_predsvm3, 'ro', label = 'predicted')\n",
        "plt.legend()\n",
        "plt.show()"
      ],
      "metadata": {
        "colab": {
          "base_uri": "https://localhost:8080/",
          "height": 278
        },
        "id": "ZrIeq2W6TRKi",
        "outputId": "cce6fb60-7b29-418e-bec2-eae388b99305"
      },
      "execution_count": null,
      "outputs": [
        {
          "output_type": "display_data",
          "data": {
            "text/plain": [
              "<Figure size 432x288 with 1 Axes>"
            ],
            "image/png": "[encoded data removed]"
          },
          "metadata": {
            "needs_background": "light"
          }
        }
      ]
    },
    {
      "cell_type": "code",
      "source": [
        "#starting SVM for cv = 10\n",
        "paramSVM = {'C':[0.1, 1, 10], 'gamma':[0.00001, 0.0001, 0.001, 0.01,0.1], 'decision_function_shape':['ovr'] }\n",
        "svmsearch10 = RandomizedSearchCV(estimator = svm, param_distributions = paramSVM, cv = 10, n_jobs = -1, verbose = 2)"
      ],
      "metadata": {
        "id": "8GVGLSF6UJ5T"
      },
      "execution_count": null,
      "outputs": []
    },
    {
      "cell_type": "code",
      "source": [
        "#fitting SVM model\n",
        "svm_10 = svmsearch3.fit(X_train, y_train) \n",
        "print(\"Best CV10 params\", svm_10.best_params_)\n",
        "print(\"Best CV10 accuracy\", svm_10.best_score_) \n",
        "y_predsvm10 = svm_10.predict (X_test)\n",
        "accuracysvm10 = accuracy_score(y_test, y_predsvm10) \n",
        "print('Accuracy of SVM 10 Classifier: {:.3f}'.format(accuracysvm10))"
      ],
      "metadata": {
        "colab": {
          "base_uri": "https://localhost:8080/"
        },
        "id": "gvKuk7XPUJ13",
        "outputId": "ca0d9945-656f-4943-f3f1-d5ff735a1002"
      },
      "execution_count": null,
      "outputs": [
        {
          "output_type": "stream",
          "name": "stdout",
          "text": [
            "Fitting 3 folds for each of 10 candidates, totalling 30 fits\n",
            "Best CV10 params {'gamma': 0.1, 'decision_function_shape': 'ovr', 'C': 10}\n",
            "Best CV10 accuracy 0.5556973933388695\n",
            "Accuracy of SVM 10 Classifier: 0.560\n"
          ]
        }
      ]
    },
    {
      "cell_type": "code",
      "source": [
        "#displaying in matrix\n",
        "con = confusion_matrix(y_test.values, y_predsvm3)\n",
        "con"
      ],
      "metadata": {
        "colab": {
          "base_uri": "https://localhost:8080/"
        },
        "id": "CG77g9yem7ZU",
        "outputId": "9e7a81de-b458-4da7-e799-bfa8d5454fb3"
      },
      "execution_count": null,
      "outputs": [
        {
          "output_type": "execute_result",
          "data": {
            "text/plain": [
              "array([[366961, 134214,      4,      0,      2,     26,      0,      0,\n",
              "             0,      2],\n",
              "       [229660, 192719,     65,      6,      5,     16,      0,      1,\n",
              "             5,     21],\n",
              "       [ 19705,  27869,     35,      9,      2,      0,      1,      0,\n",
              "             0,      1],\n",
              "       [  5749,  15341,     25,      4,      2,      0,      0,      0,\n",
              "             0,      0],\n",
              "       [    82,   3798,      1,      0,      1,      0,      0,      0,\n",
              "             0,      3],\n",
              "       [  1324,    225,      0,      0,      0,    435,      0,      0,\n",
              "             4,      8],\n",
              "       [   299,   1114,      9,      2,      0,      0,      0,      0,\n",
              "             0,      0],\n",
              "       [    16,    209,      3,      2,      0,      0,      0,      0,\n",
              "             0,      0],\n",
              "       [     1,      6,      0,      0,      0,      5,      0,      0,\n",
              "             0,      0],\n",
              "       [     0,      2,      0,      0,      0,      0,      0,      0,\n",
              "             0,      1]])"
            ]
          },
          "metadata": {},
          "execution_count": 41
        }
      ]
    },
    {
      "cell_type": "code",
      "source": [
        "np.unique(y_test)"
      ],
      "metadata": {
        "colab": {
          "base_uri": "https://localhost:8080/"
        },
        "id": "V5clB47wm7Vz",
        "outputId": "591ae6d7-a376-4edc-8679-13142c6e1172"
      },
      "execution_count": null,
      "outputs": [
        {
          "output_type": "execute_result",
          "data": {
            "text/plain": [
              "array([0, 1, 2, 3, 4, 5, 6, 7, 8, 9])"
            ]
          },
          "metadata": {},
          "execution_count": 42
        }
      ]
    },
    {
      "cell_type": "code",
      "source": [
        "#plotting svm model for cv = 10\n",
        "plt.plot(y_test, 'bo', label='actual')\n",
        "plt.plot(y_predsvm10, 'ro', label='predicted')\n",
        "plt.legend()\n",
        "plt.show()"
      ],
      "metadata": {
        "colab": {
          "base_uri": "https://localhost:8080/",
          "height": 313
        },
        "id": "VnlLRWhOm7Tq",
        "outputId": "543a99b1-fdbf-4bf1-89e8-ea53ecb26365"
      },
      "execution_count": null,
      "outputs": [
        {
          "output_type": "stream",
          "name": "stderr",
          "text": [
            "/usr/local/lib/python3.7/dist-packages/IPython/core/pylabtools.py:125: UserWarning: Creating legend with loc=\"best\" can be slow with large amounts of data.\n",
            "  fig.canvas.print_figure(bytes_io, **kw)\n"
          ]
        },
        {
          "output_type": "display_data",
          "data": {
            "text/plain": [
              "<Figure size 432x288 with 1 Axes>"
            ],
            "image/png": "[encoded data removed]"
          },
          "metadata": {
            "needs_background": "light"
          }
        }
      ]
    },
    {
      "cell_type": "markdown",
      "source": [
        "Accuracy I got in SVM model is 56%"
      ],
      "metadata": {
        "id": "30m7JBdH1m6N"
      }
    },
    {
      "cell_type": "markdown",
      "source": [
        "**Decision Tree**"
      ],
      "metadata": {
        "id": "kmFRfoAD5wb1"
      }
    },
    {
      "cell_type": "code",
      "source": [
        "#setting up parameter grid for decision tree\n",
        "decision = DecisionTreeClassifier()\n",
        "print('parameters currently in use:\\n')\n",
        "pprint(decision.get_params())\n",
        "parameters={'min_samples_split': range(10,500,20), 'max_depth': range(1,20,2)}"
      ],
      "metadata": {
        "id": "N5mDi1vYm7Rh",
        "colab": {
          "base_uri": "https://localhost:8080/"
        },
        "outputId": "00bf3c4b-7995-4aca-8b99-7cb8ad865bc2"
      },
      "execution_count": null,
      "outputs": [
        {
          "output_type": "stream",
          "name": "stdout",
          "text": [
            "parameters currently in use:\n",
            "\n",
            "{'ccp_alpha': 0.0,\n",
            " 'class_weight': None,\n",
            " 'criterion': 'gini',\n",
            " 'max_depth': None,\n",
            " 'max_features': None,\n",
            " 'max_leaf_nodes': None,\n",
            " 'min_impurity_decrease': 0.0,\n",
            " 'min_samples_leaf': 1,\n",
            " 'min_samples_split': 2,\n",
            " 'min_weight_fraction_leaf': 0.0,\n",
            " 'random_state': None,\n",
            " 'splitter': 'best'}\n"
          ]
        }
      ]
    },
    {
      "cell_type": "code",
      "source": [
        "#tuning hyperparameter by RandomSearchCV where cv = 3\n",
        "decision_random3 = RandomizedSearchCV(estimator = decision,param_distributions = parameters, n_iter = 50, cv = 3, verbose =2, \n",
        "                                      random_state=42, n_jobs = -1)\n",
        "decision_random3.fit(X_train, y_train)"
      ],
      "metadata": {
        "id": "FB5ABPU_m7PZ",
        "colab": {
          "base_uri": "https://localhost:8080/"
        },
        "outputId": "381383c2-0cfb-40e4-aa55-dad95c819bc7"
      },
      "execution_count": null,
      "outputs": [
        {
          "output_type": "stream",
          "name": "stdout",
          "text": [
            "Fitting 3 folds for each of 50 candidates, totalling 150 fits\n"
          ]
        },
        {
          "output_type": "execute_result",
          "data": {
            "text/plain": [
              "RandomizedSearchCV(cv=3, estimator=DecisionTreeClassifier(), n_iter=50,\n",
              "                   n_jobs=-1,\n",
              "                   param_distributions={'max_depth': range(1, 20, 2),\n",
              "                                        'min_samples_split': range(10, 500, 20)},\n",
              "                   random_state=42, verbose=2)"
            ]
          },
          "metadata": {},
          "execution_count": 45
        }
      ]
    },
    {
      "cell_type": "code",
      "source": [
        "#displaying accuracy where cv = 3\n",
        "print(\"best cv3 params\", decision_random3.best_params_)\n",
        "print(\"best cv3 accuracy\", decision_random3.best_score_)"
      ],
      "metadata": {
        "colab": {
          "base_uri": "https://localhost:8080/"
        },
        "id": "evHLjzV753GG",
        "outputId": "75af5eae-97fd-4722-9bf3-10764d3ab43e"
      },
      "execution_count": null,
      "outputs": [
        {
          "output_type": "stream",
          "name": "stdout",
          "text": [
            "best cv3 params {'min_samples_split': 110, 'max_depth': 15}\n",
            "best cv3 accuracy 0.5413845786932444\n"
          ]
        }
      ]
    },
    {
      "cell_type": "code",
      "source": [
        "#extracting estimator from cv = 3\n",
        "decision_best3 = decision_random3.best_estimator_"
      ],
      "metadata": {
        "id": "XhFB1dvS53Dx"
      },
      "execution_count": null,
      "outputs": []
    },
    {
      "cell_type": "code",
      "source": [
        "#tuning hyperparameter by RandomSearchCV where cv = 10\n",
        "decision_random10 = RandomizedSearchCV(estimator = decision, param_distributions = parameters, n_iter = 50, cv = 10, verbose = 2, \n",
        "                                       random_state=42, n_jobs=-1)\n",
        "decision_random10.fit(X_train,y_train)"
      ],
      "metadata": {
        "colab": {
          "base_uri": "https://localhost:8080/"
        },
        "id": "eZGyzBQF53BK",
        "outputId": "1344470b-a82a-4113-8a16-f73d6e01f40f"
      },
      "execution_count": null,
      "outputs": [
        {
          "output_type": "stream",
          "name": "stdout",
          "text": [
            "Fitting 10 folds for each of 50 candidates, totalling 500 fits\n"
          ]
        },
        {
          "output_type": "stream",
          "name": "stderr",
          "text": [
            "/usr/local/lib/python3.7/dist-packages/sklearn/model_selection/_split.py:680: UserWarning: The least populated class in y has only 5 members, which is less than n_splits=10.\n",
            "  UserWarning,\n"
          ]
        },
        {
          "output_type": "execute_result",
          "data": {
            "text/plain": [
              "RandomizedSearchCV(cv=10, estimator=DecisionTreeClassifier(), n_iter=50,\n",
              "                   n_jobs=-1,\n",
              "                   param_distributions={'max_depth': range(1, 20, 2),\n",
              "                                        'min_samples_split': range(10, 500, 20)},\n",
              "                   random_state=42, verbose=2)"
            ]
          },
          "metadata": {},
          "execution_count": 48
        }
      ]
    },
    {
      "cell_type": "code",
      "source": [
        "#displaying accuracy where cv = 10\n",
        "print(\"best cv-10 params\", decision_random10.best_params_)\n",
        "print(\"best cv-10 accuracy\", decision_random10.best_score_)"
      ],
      "metadata": {
        "colab": {
          "base_uri": "https://localhost:8080/"
        },
        "id": "D6lWuyja52-z",
        "outputId": "43a5a4cd-6133-48d2-8b06-a3fb0d2353d7"
      },
      "execution_count": null,
      "outputs": [
        {
          "output_type": "stream",
          "name": "stdout",
          "text": [
            "best cv-10 params {'min_samples_split': 110, 'max_depth': 15}\n",
            "best cv-10 accuracy 0.5438224710115953\n"
          ]
        }
      ]
    },
    {
      "cell_type": "code",
      "source": [
        "#Extracting estimator from cv = 10\n",
        "decision_best10 = decision_random10.best_estimator_"
      ],
      "metadata": {
        "id": "hNb_5Ovo59ja"
      },
      "execution_count": null,
      "outputs": []
    },
    {
      "cell_type": "markdown",
      "source": [
        "Accuracy I got in decision tree model is 54%"
      ],
      "metadata": {
        "id": "agVQlR8L65bD"
      }
    },
    {
      "cell_type": "markdown",
      "source": [
        "**Bagging classifier**"
      ],
      "metadata": {
        "id": "NGwFy-jE7x-M"
      }
    },
    {
      "cell_type": "code",
      "source": [
        "#storing train and test data in array\n",
        "estimators = [10, 20, 50, 100, 200, 500] \n",
        "train_accuracy = np.empty(len (estimators)) \n",
        "test_accuracy = np.empty(len(estimators))\n",
        "\n",
        "for i, k in enumerate(estimators):\n",
        "  bag = BaggingClassifier(n_estimators=k)\n",
        "  bag.fit(X_train, y_train) \n",
        "  train_accuracy[i] = bag.score(X_train, y_train)\n",
        "  test_accuracy[i] = bag.score(X_test, y_test)\n",
        "\n",
        "#plotting accuracy\n",
        "plt.title('Baggingt: Varying Number of estimators')\n",
        "plt.plot(estimators, test_accuracy, label='Testing Accuracy')\n",
        "plt.plot(estimators, train_accuracy, label = 'Training Accuracy')\n",
        "plt.legend()\n",
        "plt.xlabel(\"Number of estimators\")\n",
        "plt.ylabel('Accuracy')\n",
        "plt.show()\n"
      ],
      "metadata": {
        "colab": {
          "base_uri": "https://localhost:8080/",
          "height": 295
        },
        "id": "ZUoeAL_R70RD",
        "outputId": "5c2e3550-d850-48e2-95ad-70c78a03c1a2"
      },
      "execution_count": null,
      "outputs": [
        {
          "output_type": "display_data",
          "data": {
            "text/plain": [
              "<Figure size 432x288 with 1 Axes>"
            ],
            "image/png": "[encoded data removed]"
          },
          "metadata": {
            "needs_background": "light"
          }
        }
      ]
    },
    {
      "cell_type": "code",
      "source": [
        "#using decision tree as base estimator for cv = 3\n",
        "bag3 = BaggingClassifier(base_estimator=decision_best3, n_estimators=500, n_jobs=-1)"
      ],
      "metadata": {
        "id": "vRYrVE7s70zK"
      },
      "execution_count": null,
      "outputs": []
    },
    {
      "cell_type": "code",
      "source": [
        "#fitting bagging classifier\n",
        "bag3.fit(X_train, y_train)"
      ],
      "metadata": {
        "colab": {
          "base_uri": "https://localhost:8080/"
        },
        "id": "QCBjOU5q70wn",
        "outputId": "862b9e86-410e-44c0-c296-f8d44f2f7f55"
      },
      "execution_count": null,
      "outputs": [
        {
          "output_type": "execute_result",
          "data": {
            "text/plain": [
              "BaggingClassifier(base_estimator=DecisionTreeClassifier(max_depth=15,\n",
              "                                                        min_samples_split=110),\n",
              "                  n_estimators=500, n_jobs=-1)"
            ]
          },
          "metadata": {},
          "execution_count": 53
        }
      ]
    },
    {
      "cell_type": "code",
      "source": [
        "#displaying accuracy\n",
        "y_pred3=bag3.predict(X_test)\n",
        "accuracy3 = accuracy_score(y_test, y_pred3)\n",
        "print('accuracy of bagging:{:.3f}'.format(accuracy3))"
      ],
      "metadata": {
        "colab": {
          "base_uri": "https://localhost:8080/"
        },
        "id": "RYQQGI6d70td",
        "outputId": "bdc9a041-1206-474c-cb8d-f7bd95ab7902"
      },
      "execution_count": null,
      "outputs": [
        {
          "output_type": "stream",
          "name": "stdout",
          "text": [
            "accuracy of bagging:0.610\n"
          ]
        }
      ]
    },
    {
      "cell_type": "code",
      "source": [
        "#using decision tree as base estimator for cv = 10\n",
        "bag10 = BaggingClassifier(base_estimator = decision_best10, n_estimators=500, n_jobs=-1)\n",
        "bag10.fit(X_train, y_train)"
      ],
      "metadata": {
        "colab": {
          "base_uri": "https://localhost:8080/"
        },
        "id": "AMSEWWbcir8Q",
        "outputId": "8f67673c-f955-4025-e6fd-a61fecfbcf00"
      },
      "execution_count": null,
      "outputs": [
        {
          "output_type": "execute_result",
          "data": {
            "text/plain": [
              "BaggingClassifier(base_estimator=DecisionTreeClassifier(max_depth=15,\n",
              "                                                        min_samples_split=110),\n",
              "                  n_estimators=500, n_jobs=-1)"
            ]
          },
          "metadata": {},
          "execution_count": 55
        }
      ]
    },
    {
      "cell_type": "code",
      "source": [
        "#displaying accuracy\n",
        "y_pred10=bag10.predict(X_test)\n",
        "accuracy10 = accuracy_score(y_test, y_pred10)\n",
        "print('accuracy of 10 dt:{:.3f}'.format(accuracy10))"
      ],
      "metadata": {
        "colab": {
          "base_uri": "https://localhost:8080/"
        },
        "id": "wfexlBtGirs5",
        "outputId": "d25e5a61-229f-4ba5-f350-91886e9811bd"
      },
      "execution_count": null,
      "outputs": [
        {
          "output_type": "stream",
          "name": "stdout",
          "text": [
            "accuracy of 10 dt:0.610\n"
          ]
        }
      ]
    },
    {
      "cell_type": "markdown",
      "source": [
        "The accuracy I got in Bagging Classifier is 61% which is the greatest "
      ],
      "metadata": {
        "id": "AAMhkJ5z4FFA"
      }
    },
    {
      "cell_type": "markdown",
      "source": [
        "**Random Forest**"
      ],
      "metadata": {
        "id": "ss_X-EOe9CF3"
      }
    },
    {
      "cell_type": "code",
      "source": [
        "#storing data in array where setting n-estimator = 25 \n",
        "estimators = [5,10,15,20,25] \n",
        "train_accuracy = np.empty (len(estimators))\n",
        "test_accuracy = np.empty(len (estimators))\n",
        "\n",
        "for i, k in enumerate(estimators):\n",
        "  random = RandomForestClassifier(n_estimators=k)\n",
        "  random.fit(X_train, y_train)\n",
        "  train_accuracy[i] = random.score(X_train, y_train)\n",
        "  test_accuracy[i] = random.score(X_test, y_test)\n",
        "  \n",
        "#plotting accuracy\n",
        "plt.title('Random Forest: Varying Number of estimators') \n",
        "plt.plot(estimators, test_accuracy, label='Testing Accuracy')\n",
        "plt.plot(estimators, train_accuracy, label='Training Accuracy') \n",
        "plt.legend()\n",
        "plt.xlabel('Number of estimators')\n",
        "plt.ylabel(\"Accuracy\")\n",
        "plt.show()\n"
      ],
      "metadata": {
        "colab": {
          "base_uri": "https://localhost:8080/",
          "height": 295
        },
        "id": "pSPkJFx18xQy",
        "outputId": "6efeb296-63d4-4e14-c33e-478f24ac811f"
      },
      "execution_count": null,
      "outputs": [
        {
          "output_type": "display_data",
          "data": {
            "text/plain": [
              "<Figure size 432x288 with 1 Axes>"
            ],
            "image/png": "[encoded data removed]"
          },
          "metadata": {
            "needs_background": "light"
          }
        }
      ]
    },
    {
      "cell_type": "code",
      "source": [
        "#validating in cv = 3\n",
        "random=RandomForestClassifier (n_estimators=25)\n",
        "cv_3 = cross_val_score (random, X_train, y_train, cv=3)\n",
        "print(cv_3)\n",
        "print(\"Average 3-Fold CV Score: {}\".format(np.mean(cv_3)))"
      ],
      "metadata": {
        "colab": {
          "base_uri": "https://localhost:8080/"
        },
        "id": "LZ_7NHOO_Gdw",
        "outputId": "79c6a370-9c3e-42d4-b540-ce0519db1847"
      },
      "execution_count": null,
      "outputs": [
        {
          "output_type": "stream",
          "name": "stdout",
          "text": [
            "[0.57958498 0.56723042 0.57785509]\n",
            "Average 3-Fold CV Score: 0.5748901625319408\n"
          ]
        }
      ]
    },
    {
      "cell_type": "code",
      "source": [
        "#validating in cv = 10\n",
        "random=RandomForestClassifier(n_estimators=25)\n",
        "cv_10 = cross_val_score(random, X_train, y_train, cv=10)\n",
        "print(cv_10)\n",
        "print(\"average 10 fold cv score: {}\".format(np.mean(cv_10)))"
      ],
      "metadata": {
        "colab": {
          "base_uri": "https://localhost:8080/"
        },
        "id": "2N89UDH2_GWJ",
        "outputId": "a7bf5194-bb70-4a59-f3d0-1910199cf37b"
      },
      "execution_count": null,
      "outputs": [
        {
          "output_type": "stream",
          "name": "stderr",
          "text": [
            "/usr/local/lib/python3.7/dist-packages/sklearn/model_selection/_split.py:680: UserWarning: The least populated class in y has only 5 members, which is less than n_splits=10.\n",
            "  UserWarning,\n"
          ]
        },
        {
          "output_type": "stream",
          "name": "stdout",
          "text": [
            "[0.58416633 0.58296681 0.58056777 0.58136745 0.58576569 0.59456218\n",
            " 0.57457017 0.59696122 0.60015994 0.58136745]\n",
            "average 10 fold cv score: 0.5862455017992804\n"
          ]
        }
      ]
    },
    {
      "cell_type": "markdown",
      "source": [
        "The accuracy I got in Random Forest model is 58% in cv = 10 and 57% in cv = 3. 10 fold cross validation has performed well than 3 fold cross validation "
      ],
      "metadata": {
        "id": "-G09Smff5tK1"
      }
    }
  ],
  "metadata": {
    "colab": {
      "name": "Mercy_602_finalproject.ipynb",
      "provenance": []
    },
    "kernelspec": {
      "display_name": "Python 3",
      "name": "python3"
    },
    "language_info": {
      "name": "python"
    }
  },
  "nbformat": 4,
  "nbformat_minor": 0
}