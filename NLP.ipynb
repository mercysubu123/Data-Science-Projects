{
 "cells": [
  {
   "cell_type": "code",
   "execution_count": 1,
   "id": "60e4c764",
   "metadata": {},
   "outputs": [
    {
     "name": "stderr",
     "output_type": "stream",
     "text": [
      "[nltk_data] Downloading package stopwords to C:\\Users\\Harshit\n",
      "[nltk_data]     Dave\\AppData\\Roaming\\nltk_data...\n",
      "[nltk_data]   Package stopwords is already up-to-date!\n"
     ]
    }
   ],
   "source": [
    "#Import required Libraried\n",
    "from selenium import webdriver\n",
    "from selenium.webdriver.chrome.options import Options\n",
    "import re\n",
    "import difflib\n",
    "from  selenium.common import exceptions\n",
    "import requests \n",
    "import pandas as pd \n",
    "import seaborn as sns\n",
    "import matplotlib.pyplot as ptl\n",
    "from bs4 import BeautifulSoup\n",
    "import nltk\n",
    "import string\n",
    "import re\n",
    "from nltk.corpus import stopwords\n",
    "nltk.download('stopwords')\n",
    "import aspose.words as aw\n",
    "import torch\n",
    "import librosa\n",
    "import numpy as np\n",
    "import soundfile as sf\n",
    "from scipy.io import wavfile\n",
    "from IPython.display import Audio\n",
    "from transformers import Wav2Vec2ForCTC, Wav2Vec2Tokenizer\n",
    "from transformers import HubertForCTC, Wav2Vec2Processor\n",
    "from sklearn.metrics.pairwise import cosine_similarity\n",
    "from sklearn.feature_extraction.text import TfidfVectorizer\n",
    "import warnings\n",
    "warnings.filterwarnings(\"ignore\")"
   ]
  },
  {
   "cell_type": "code",
   "execution_count": 2,
   "id": "fef65a30",
   "metadata": {},
   "outputs": [],
   "source": [
    "#Defining function to automate google search and scrape data from websites\n",
    "options = Options()\n",
    "options.add_argument(\"headless\")\n",
    "def googleSearch(query):\n",
    "\n",
    "    #Assigning chrome drivers\n",
    "    driver = webdriver.Chrome(options=options, executable_path='chromedriver')\n",
    "    search_engine = \"https://www.google.com/search?q=\"\n",
    "    query = query.replace(\" \",\"+\")\n",
    "    #getting first page of google search result of query.\n",
    "    driver.get(search_engine + query + \"&start=\" + \"0\")\n",
    "\n",
    "    df = {}\n",
    "    \n",
    "    #Function to clean scraped data\n",
    "    stopwords=nltk.corpus.stopwords.words('english')\n",
    "    def clean_text(text):\n",
    "        edited_text=re.sub('\\W',\" \",text) #replace any sumbol with whitespace\n",
    "        edited_text=re.sub(\"  \",\" \",edited_text) #replace double whitespace with single whitespace\n",
    "        edited_text=edited_text.split(\" \") #split the sentence into array of strings\n",
    "        edited_text=\" \".join([char for char in edited_text if char!= \"\"]) #remove any empty string from text\n",
    "        edited_text=edited_text.lower() #lowercase\n",
    "        edited_text=re.sub('\\d+',\"\",edited_text) #Removing numerics\n",
    "        edited_text=re.split('\\W+',edited_text) #spliting based on whitespace or whitespaces\n",
    "        edited_text=\" \".join([word for word in edited_text if word not in stopwords]) #Snowball Stemmer\n",
    "        return edited_text\n",
    "\n",
    "    s_len = 10\n",
    "    #Defining all posibel Xpaths of the search results\n",
    "    for s_block in range(1 , s_len+1):\n",
    "        content_block_xpath1 = f'''//*[@id=\"rso\"]/div[{s_block}]/div/div/div[1]/div/div'''\n",
    "        content_block_xpath2 = f'''//*[@id=\"rso\"]/div[{s_block}]/div/div/div'''\n",
    "        content_block_xpath3 = f'''//*[@id=\"rso\"]/div[{s_block}]/div/div'''\n",
    "        content_block_xpath4 = f'''//*[@id=\"rso\"]/div[{s_block}]/div[2]/div'''\n",
    "\n",
    "        # Urls through xpaths\n",
    "        xpath_url1 = f\"\"\"{content_block_xpath1}/div[1]/div/a\"\"\"\n",
    "        xpath_url2 = f\"\"\"{content_block_xpath2}/div[1]/div/a\"\"\"\n",
    "        xpath_url3 = f\"\"\"{content_block_xpath3}/div[1]/div/a\"\"\"\n",
    "        xpath_url4 = f\"\"\"{content_block_xpath4}/div[1]/div/a\"\"\"\n",
    "\n",
    "        # Creating list of all search results website links \n",
    "        try:\n",
    "            block = {}\n",
    "            links = []\n",
    "            try:\n",
    "                url1 = driver.find_elements('xpath', xpath_url1)\n",
    "                for url in url1:\n",
    "                    links.append(url.get_attribute(\"href\"))\n",
    "            except:\n",
    "                pass\n",
    "            try:\n",
    "                url2 = driver.find_elements('xpath', xpath_url2)\n",
    "                for url in url2:\n",
    "                    links.append(url.get_attribute(\"href\"))\n",
    "            except:\n",
    "                pass\n",
    "            try:\n",
    "                url3 = driver.find_elements('xpath', xpath_url3)\n",
    "                for url in url3:\n",
    "                    links.append(url.get_attribute(\"href\"))\n",
    "            except:\n",
    "                pass\n",
    "            try:\n",
    "                url4 = driver.find_elements('xpath', xpath_url4)\n",
    "                for url in url4:\n",
    "                    links.append(url.get_attribute(\"href\"))\n",
    "            except:\n",
    "                pass\n",
    "            #Finding domain by regular expression\n",
    "            pattern =  r\"\"\"(https?:\\/\\/)?(([a-z0-9-_]+\\.)?([a-z0-9-_]+\\.[a-z0-9-_]+))\"\"\"\n",
    "            if len(links) == 0:\n",
    "                domain = re.search(pattern,'')\n",
    "            else: \n",
    "                domain = re.search(pattern, links[0])\n",
    "            if len(links)==0:\n",
    "                final_text = ''\n",
    "            else:\n",
    "                def getdata(url): \n",
    "                    try:\n",
    "                        r = requests.get(url)\n",
    "                        return r.text\n",
    "                    except:\n",
    "                        r = ''\n",
    "                        return r \n",
    "                # Scrapping paragraphs of websites and storing in a dictionary after cleaning\n",
    "                htmldata = getdata(links[0]) \n",
    "                soup = BeautifulSoup(htmldata, 'html.parser') \n",
    "                data = '' \n",
    "                content = []\n",
    "                for data in soup.find_all(\"p\"): \n",
    "                    content.append(data.get_text())\n",
    "                text_content = ' '.join(content)\n",
    "                final_text = clean_text(text_content)\n",
    "            block[\"domain\"] = domain\n",
    "            if len(links)==0:\n",
    "                block[\"url\"] = ''\n",
    "            else:\n",
    "                block[\"url\"] = links[0]\n",
    "            block[\"description\"] = final_text\n",
    "\n",
    "            df[f'{s_block}'] = block\n",
    "\n",
    "        except exceptions.NoSuchElementException:\n",
    "            continue\n",
    "#using Try and Except on different stages to mange any error\n",
    "        if len(df) == 0:\n",
    "            raise Exception(\"No data found\")\n",
    "\n",
    "    driver.close()\n",
    "    return df"
   ]
  },
  {
   "cell_type": "code",
   "execution_count": 3,
   "id": "81b7e2a0",
   "metadata": {},
   "outputs": [
    {
     "name": "stderr",
     "output_type": "stream",
     "text": [
      "The tokenizer class you load from this checkpoint is not the same type as the class this function is called from. It may result in unexpected tokenization. \n",
      "The tokenizer class you load from this checkpoint is 'Wav2Vec2CTCTokenizer'. \n",
      "The class this function is called from is 'Wav2Vec2Tokenizer'.\n",
      "Some weights of Wav2Vec2ForCTC were not initialized from the model checkpoint at facebook/wav2vec2-base-960h and are newly initialized: ['wav2vec2.masked_spec_embed']\n",
      "You should probably TRAIN this model on a down-stream task to be able to use it for predictions and inference.\n"
     ]
    }
   ],
   "source": [
    "#Pretrained models to convert Audion Wav file to Text\n",
    "tokenizer = Wav2Vec2Tokenizer.from_pretrained(\"facebook/wav2vec2-base-960h\")\n",
    "model = Wav2Vec2ForCTC.from_pretrained(\"facebook/wav2vec2-base-960h\")"
   ]
  },
  {
   "cell_type": "code",
   "execution_count": 4,
   "id": "5795fff8",
   "metadata": {},
   "outputs": [],
   "source": [
    "text = 'Python is dynamically-typed and garbage-collected. It supports multiple programming paradigms, including structured (particularly procedural), object-oriented and functional programming. It is often described as a \"batteries included\" language due to its comprehensive standard library.'"
   ]
  },
  {
   "cell_type": "code",
   "execution_count": 5,
   "id": "06e1d9cb",
   "metadata": {},
   "outputs": [],
   "source": [
    "#Converting all types of files (Audio, Doc., Txt.) in to simple text file.\n",
    "File = 'example.txt'\n",
    "if text is not None:\n",
    "    file = open('Output.txt', 'w')\n",
    "    file.write(text)\n",
    "    file.close()\n",
    "else:\n",
    "    if File.endswith('.docx'):\n",
    "        doc = aw.Document(File)\n",
    "        doc.save(\"Output.txt\")\n",
    "    elif File.endswith('.txt'):\n",
    "        file = open(File, 'r')\n",
    "        a = file.read()\n",
    "        file = open('Output.txt', 'w')\n",
    "        file.write(a)\n",
    "        file.close()\n",
    "    elif File.endswith('.wav'):\n",
    "        processor = Wav2Vec2Processor.from_pretrained(\"facebook/wav2vec2-base-960h\")\n",
    "        model = HubertForCTC.from_pretrained(\"facebook/hubert-large-ls960-ft\")\n",
    "        speech, rate = librosa.load(File, sr=16000)\n",
    "        input_values = processor(speech, return_tensors=\"pt\", sampling_rate=rate).input_values\n",
    "        logits = model(input_values).logits\n",
    "        predicted_ids = torch.argmax(logits, dim=-1)\n",
    "        transcription = processor.batch_decode(predicted_ids)\n",
    "        audio_text = ' '.join(transcription)\n",
    "        file = open('Output.txt', 'w')\n",
    "        file.write(str(audio_text))\n",
    "        file.close()"
   ]
  },
  {
   "cell_type": "code",
   "execution_count": 6,
   "id": "2e020869",
   "metadata": {},
   "outputs": [
    {
     "name": "stdout",
     "output_type": "stream",
     "text": [
      "Python is dynamically-typed and garbage-collected. It supports multiple programming paradigms, including structured (particularly procedural), object-oriented and functional programming. It is often described as a \"batteries included\" language due to its comprehensive standard library.\n"
     ]
    }
   ],
   "source": [
    "#Read Output.txt\n",
    "file = open('Output.txt', 'r')\n",
    "a = file.read()\n",
    "print(a)"
   ]
  },
  {
   "cell_type": "code",
   "execution_count": 7,
   "id": "48173cc7",
   "metadata": {},
   "outputs": [
    {
     "data": {
      "text/html": [
       "<div>\n",
       "<style scoped>\n",
       "    .dataframe tbody tr th:only-of-type {\n",
       "        vertical-align: middle;\n",
       "    }\n",
       "\n",
       "    .dataframe tbody tr th {\n",
       "        vertical-align: top;\n",
       "    }\n",
       "\n",
       "    .dataframe thead th {\n",
       "        text-align: right;\n",
       "    }\n",
       "</style>\n",
       "<table border=\"1\" class=\"dataframe\">\n",
       "  <thead>\n",
       "    <tr style=\"text-align: right;\">\n",
       "      <th></th>\n",
       "      <th>Text</th>\n",
       "    </tr>\n",
       "  </thead>\n",
       "  <tbody>\n",
       "    <tr>\n",
       "      <th>0</th>\n",
       "      <td>Python is dynamically-typed and garbage-collec...</td>\n",
       "    </tr>\n",
       "  </tbody>\n",
       "</table>\n",
       "</div>"
      ],
      "text/plain": [
       "                                                Text\n",
       "0  Python is dynamically-typed and garbage-collec..."
      ]
     },
     "execution_count": 7,
     "metadata": {},
     "output_type": "execute_result"
    }
   ],
   "source": [
    "#Split the text file by new line to create pandas dataframe\n",
    "files = ['Output.txt']\n",
    "da = {}\n",
    "for f in files:\n",
    "    with open (f, \"r\",encoding=\"utf8\") as myfile:\n",
    "        all_lines = myfile.read().splitlines() #Spliting \n",
    "        da['Text'] = all_lines\n",
    "df = pd.DataFrame(da)\n",
    "df"
   ]
  },
  {
   "cell_type": "code",
   "execution_count": 8,
   "id": "38af0967",
   "metadata": {},
   "outputs": [],
   "source": [
    "#Removing small sentences, headings, titles row from dataframe\n",
    "for i in range(len(df['Text'])):\n",
    "    if len(df['Text'][i]) < 100:\n",
    "        df = df.drop(i)"
   ]
  },
  {
   "cell_type": "code",
   "execution_count": 9,
   "id": "37dbbbed",
   "metadata": {},
   "outputs": [
    {
     "data": {
      "text/html": [
       "<div>\n",
       "<style scoped>\n",
       "    .dataframe tbody tr th:only-of-type {\n",
       "        vertical-align: middle;\n",
       "    }\n",
       "\n",
       "    .dataframe tbody tr th {\n",
       "        vertical-align: top;\n",
       "    }\n",
       "\n",
       "    .dataframe thead th {\n",
       "        text-align: right;\n",
       "    }\n",
       "</style>\n",
       "<table border=\"1\" class=\"dataframe\">\n",
       "  <thead>\n",
       "    <tr style=\"text-align: right;\">\n",
       "      <th></th>\n",
       "      <th>Text</th>\n",
       "      <th>Treated_Text</th>\n",
       "    </tr>\n",
       "  </thead>\n",
       "  <tbody>\n",
       "    <tr>\n",
       "      <th>0</th>\n",
       "      <td>Python is dynamically-typed and garbage-collec...</td>\n",
       "      <td>python dynamically typed garbage collected sup...</td>\n",
       "    </tr>\n",
       "  </tbody>\n",
       "</table>\n",
       "</div>"
      ],
      "text/plain": [
       "                                                Text  \\\n",
       "0  Python is dynamically-typed and garbage-collec...   \n",
       "\n",
       "                                        Treated_Text  \n",
       "0  python dynamically typed garbage collected sup...  "
      ]
     },
     "execution_count": 9,
     "metadata": {},
     "output_type": "execute_result"
    }
   ],
   "source": [
    "#Cleaning text and storing in new column\n",
    "stopwords=nltk.corpus.stopwords.words('english')\n",
    "def clean_text(text):\n",
    "    edited_text=re.sub('\\W',\" \",text) #replace any sumbol with whitespace\n",
    "    edited_text=re.sub(\"  \",\" \",edited_text) #replace double whitespace with single whitespace\n",
    "    edited_text=edited_text.split(\" \") #split the sentence into array of strings\n",
    "    edited_text=\" \".join([char for char in edited_text if char!= \"\"]) #remove any empty string from text\n",
    "    edited_text=edited_text.lower() #lowercase\n",
    "    edited_text=re.sub('\\d+',\"\",edited_text) #Removing numerics\n",
    "    edited_text=re.split('\\W+',edited_text) #spliting based on whitespace or whitespaces\n",
    "    edited_text=\" \".join([word for word in edited_text if word not in stopwords])\n",
    "    return edited_text\n",
    "df['Treated_Text']=df.Text.apply(lambda x: clean_text(x))\n",
    "df"
   ]
  },
  {
   "cell_type": "code",
   "execution_count": 10,
   "id": "8a728980",
   "metadata": {},
   "outputs": [],
   "source": [
    "#Applying google search function on each row and store in dictionary\n",
    "final = {}\n",
    "for i in range(len(df['Treated_Text'])):\n",
    "    final[f'{i}'] = googleSearch(f'{df.Treated_Text[i]}')"
   ]
  },
  {
   "cell_type": "code",
   "execution_count": 11,
   "id": "4a52397b",
   "metadata": {},
   "outputs": [
    {
     "data": {
      "text/plain": [
       "{'0': {'1': {'domain': <re.Match object; span=(0, 24), match='https://www.linkedin.com'>,\n",
       "   'url': 'https://www.linkedin.com/pulse/python-programming-language-vanshika-munshi',\n",
       "   'description': 'python high level general purpose programming language design philosophy emphasizes code readability use significant indentation python dynamically typed garbage collected supports multiple programming paradigms including structured particularly procedural object oriented functional programming often described batteries included language due comprehensive standard library guido van rossum began working python late successor abc programming language first released python python released introduced new features list comprehensions cycle detecting garbage collection reference counting unicode support python released major revision completely backward compatible earlier versions python discontinued version python consistently ranks one popular programming languages view add comment sign view add comment sign'},\n",
       "  '2': {'domain': <re.Match object; span=(0, 21), match='https://www.chegg.com'>,\n",
       "   'url': 'https://www.chegg.com/homework-help/questions-and-answers/datatutorialcsvpython1-python-high-level-general-purpose-programming-language-design-philo-q101718551',\n",
       "   'description': 'access page denied believe using automation tools browse website may happen result following please make sure javascript cookies enabled browser blocking loading reference id cbddc ed ca dc powered perimeterx inc'},\n",
       "  '3': {'domain': <re.Match object; span=(0, 24), match='https://en.wikipedia.org'>,\n",
       "   'url': 'https://en.wikipedia.org/wiki/Python_(programming_language)',\n",
       "   'description': 'python high level general purpose programming language design philosophy emphasizes code readability use significant indentation python dynamically typed garbage collected supports multiple programming paradigms including structured particularly procedural object oriented functional programming often described batteries included language due comprehensive standard library guido van rossum began working python late successor abc programming language first released python python released introduced new features list comprehensions cycle detecting garbage collection reference counting unicode support python released major revision completely backward compatible earlier versions python discontinued version python consistently ranks one popular programming languages python conceived late guido van rossum centrum wiskunde informatica cwi netherlands successor abc programming language inspired setl capable exception handling start plus new capabilities python interfacing amoeba operating system implementation began december van rossum shouldered sole responsibility project lead developer july announced permanent vacation responsibilities python benevolent dictator life title python community bestowed upon reflect long term commitment project chief decision maker january active python core developers elected five member steering council lead project python released october many major new features python released december many major features backported python x x releases python include utility automates translation python code python python end life initially set postponed concern large body existing code could easily forward ported python security patches improvements released currently later supported python expedited versions python including security issues leading possible remote code execution web cache poisoning python expedited many security issues python released may announced series joining older series receive security fixes going forward september four new releases made due potential denial service attack november update python current stable release among notable changes faster significantly improved error reporting python alpha improved error messages deprecated smtpd module removed python alpha number old broken deprecated functions e g unittest module classes methods removed deprecated wstr wstr_ length members c implementation unicode objects removed make utf default later python versions historically python also made changes python e g changed division operator python multi paradigm programming language object oriented programming structured programming fully supported many features support functional programming aspect oriented programming including metaprogramming metaobjects many paradigms supported via extensions including design contract logic programming python uses dynamic typing combination reference counting cycle detecting garbage collector memory management uses dynamic name resolution late binding binds method variable names program execution design offers support functional programming lisp tradition filter mapandreduce functions list comprehensions dictionaries sets generator expressions standard library two modules itertools functools implement functional tools borrowed haskell standard ml core philosophy summarized document zen python pep includes aphorisms rather building functionality core python designed highly extensible via modules compact modularity made particularly popular means adding programmable interfaces existing applications van rossum vision small core language large standard library easily extensible interpreter stemmed frustrations abc espoused opposite approach python strives simpler less cluttered syntax grammar giving developers choice coding methodology contrast perl one way motto python embraces one preferably one obvious way philosophy alex martelli fellow python software foundation python book author wrote describe something clever considered compliment python culture python developers strive avoid premature optimization reject patches non critical parts cpython reference implementation would offer marginal increases speed cost clarity speed important python programmer move time critical functions extension modules written languages c use pypy time compiler cython also available translates python script c makes direct c level api calls python interpreter python developers aim fun use reflected name tribute british comedy group monty python occasionally playful approaches tutorials reference materials examples refer spam eggs reference monty python sketch instead standard foo bar common neologism python community pythonic wide range meanings related program style pythonic code may use python idioms well natural show fluency language conform python minimalist philosophy emphasis readability code difficult understand reads like rough transcription another programming language called unpythonic python users admirers especially considered knowledgeable experienced often referred pythonistas python meant easily readable language formatting visually uncluttered often uses english keywords languages use punctuation unlike many languages use curly brackets delimit blocks semicolons statements allowed rarely used fewer syntactic exceptions special cases c pascal python uses whitespace indentation rather curly brackets keywords delimit blocks increase indentation comes certain statements decrease indentation signifies end current block thus program visual structure accurately represents semantic structure feature sometimes termed side rule languages use indentation way indentation semantic meaning recommended indent size four spaces python statements include assignment statement binds name reference separate dynamically allocated object variables may subsequently rebound time object python variable name generic reference holder without fixed data type however always refers object type called dynamic typing contrast statically typed languages variable may contain value certain type python support tail call optimization first class continuations according van rossum never however better support coroutine like functionality provided extending python generators generators lazy iterators data passed unidirectionally generator python possible pass data back generator function version passed multiple stack levels python expressions include python distinction expressions statements rigidly enforced contrast languages common lisp scheme ruby leads duplicating functionality example statements cannot part expression list comprehensions lambda expressions expressions cannot contain statements particular case assignment statement cannot form part conditional expression conditional statement advantage avoiding classic c error mistaking assignment operator equality operator conditions c syntactically valid probably unintended c code c causes syntax error python methods objects functions attached object class syntax instance method argument normal methods functions syntactic sugar class method instance argument python methods explicit self parameter access instance data contrast implicit self object oriented programming languages e g c java objective c ruby python also provides methods often called dunder methods due names beginning ending double underscores allow user defined classes modify handled native operations including length comparison arithmetic operations type conversion python uses duck typing typed objects untyped variable names type constraints checked compile time rather operations object may fail signifying suitable type despite dynamically typed python strongly typed forbidding operations well defined example adding number string rather silently attempting make sense python allows programmers define types using classes often used object oriented programming new instances classes constructed calling class example spamclass eggsclass classes instances metaclass type instance allowing metaprogramming reflection version python two kinds classes using syntax old style new style current python versions support semantics new style long term plan support gradual typing python syntax allows specifying static types checked default implementation cpython experimental optional static type checker mypy supports compile time type checking python usual symbols arithmetic operators floor division operator modulo operation remainder negative e g also exponentiation e g matrix multiplication operator operators work like traditional math precedence rules operators infix also unary represent positive negative numbers respectively division integers produces floating point results behavior division changed significantly time python terms true division simply division floor division version classic division rounding towards negative infinity though different languages adds consistency instance means equation b b b always true also means equation b b b valid positive negative values however maintaining validity equation means result b expected half open interval b b positive integer lie interval b b negative python provides round function rounding float nearest integer tie breaking python uses round even round round produce versions used round away zero round round python allows boolean expressions multiple equality relations manner consistent general use mathematics example expression b c tests whether less b b less c c derived languages interpret expression differently c expression would first evaluate b resulting result would compared c python uses arbitrary precision arithmetic integer operations decimal type class decimal module provides decimal floating point numbers pre defined arbitrary precision several rounding modes fraction class fractions module provides arbitrary precision rational numbers due python extensive mathematics library third party library numpy extends native capabilities frequently used scientific scripting language aid problems numerical data processing manipulation hello world program program calculate factorial positive integer python large standard library provides tools suited many tasks commonly cited one greatest strengths internet facing applications many standard formats protocols mime http supported includes modules creating graphical user interfaces connecting relational databases generating pseudorandom numbers arithmetic arbitrary precision decimals manipulating regular expressions unit testing parts standard library covered specifications example web server gateway interface wsgi implementation wsgiref follows pep specified code internal documentation test suites however standard library cross platform python code modules need altering rewriting variant implementations november update python package index pypi official repository third party python software contains packages wide range functionality including python implementations including cpython include read eval print loop repl permitting function command line interpreter users enter statements sequentially receive results immediately python also comes integrated development environment ide called idle beginner oriented shells including idle ipython add abilities improved auto completion session state retention syntax highlighting well standard desktop integrated development environments web browser based ides including sagemath developing science math related programs pythonanywhere browser based ide hosting environment canopy ide commercial ide emphasizing scientific computing cpython reference implementation python written c meeting c standard python uses c several select c features later c versions considered outdated cpython includes c extensions third party extensions limited older c versions e g implemented c c compiles python programs intermediate bytecode executed virtual machine cpython distributed large standard library written mixture c native python available many platforms including windows starting python python installer deliberately fails install windows windows xp supported python modern unix like systems including macos apple macs since python experimental installer unofficial support e g vms platform portability one earliest priorities python development even os solaris supported support since dropped many platforms time python compilers developed unsupported several compilers high level object languages either unrestricted python restricted subset python language similar python source language specialized older projects used python x latest syntax performance comparison various python implementations non numerical combinatorial workload presented euroscipy python performance compared programming languages also benchmarked computer language benchmarks game python development conducted largely python enhancement proposal pep process primary mechanism proposing major new features collecting community input issues documenting python design decisions python coding style covered pep outstanding peps reviewed commented python community steering council enhancement language corresponds development cpython reference implementation mailing list python dev primary forum language development specific issues originally discussed roundup bug tracker hosted foundation issues discussions migrated github development originally took place self hosted source code repository running mercurial python moved github january cpython public releases come three types distinguished part version number incremented many alpha beta release candidates also released previews testing final releases although rough schedule release often delayed code ready python development team monitors state code running large unit test suite development major academic conference python pycon also special python mentoring programs pyladies python deprecated wstr removed python meaning python extensions need modified added pattern matching language tools generate documentation python api include pydoc available part standard library sphinx pdoc forks doxygen graphviz among others python name derived british comedy group monty python python creator guido van rossum enjoyed developing language monty python references appear frequently python code culture example metasyntactic variables often used python literature spam eggs instead traditional foo bar official python documentation also contains various references monty python routines prefix py used show something related python examples use prefix names python applications libraries include pygame binding sdl python commonly used create games pyqt pygtk bind qt gtk python respectively pypy python implementation originally written python since python consistently ranked top ten popular programming languages tiobe programming community index october update popular language ahead java c selected programming language year highest rise ratings year language four times empirical study found scripting languages python productive conventional languages c java programming problems involving string manipulation search dictionary determined memory consumption often better java much worse c c large organizations use python include wikipedia google yahoo cern nasa facebook amazon instagram spotify smaller entities like ilm ita social news networking site reddit written mostly python python serve scripting language web applications e g via mod_wsgi apache webserver web server gateway interface standard api evolved facilitate applications web frameworks like django pylons pyramid turbogears webpy tornado flask bottle zope support developers design maintenance complex applications pyjs ironpython used develop client side ajax based applications sqlalchemy used data mapper relational database twisted framework program communications computers used example dropbox libraries numpy scipy matplotlib allow effective use python scientific computing specialized libraries biopython astropy providing domain specific functionality sagemath computer algebra system notebook interface programmable python library covers many aspects mathematics including algebra combinatorics numerical mathematics number theory calculus opencv python bindings rich set features computer vision image processing python commonly used artificial intelligence projects machine learning projects help libraries like tensorflow keras pytorch scikit learn scripting language modular architecture simple syntax rich text processing tools python often used natural language processing python also used create games libraries pygame make games python successfully embedded many software products scripting language including finite element method software abaqus parametric modelers like freecad animation packages ds max blender cinema lightwave houdini maya modo motionbuilder softimage visual effects compositor nuke imaging programs like gimp inkscape scribus paint shop pro musical notation programs like scorewriter capella gnu debugger uses python pretty printer show complex structures c containers esri promotes python best choice writing scripts arcgis also used several video games adopted first three available programming languages google app engine two java go many operating systems include python standard component ships linux distributions amigaos using python freebsd package netbsd openbsd package used command line terminal many linux distributions use installers written python ubuntu uses ubiquity installer red hat linux fedora linux use anaconda installer gentoo linux uses python package management system portage python used extensively information security industry including exploit development sugar software one laptop per child xo developed sugar labs since written python raspberry pi single board computer project adopted python main user programming language libreoffice includes python intends replace java python python scripting provider core feature since version february python design philosophy influenced many programming languages python development practices also emulated languages example practice requiring document describing rationale issues surrounding change language python pep also used tcl erlang swift '},\n",
       "  '4': {'domain': <re.Match object; span=(0, 23), match='https://gist.github.com'>,\n",
       "   'url': 'https://gist.github.com/Abhayparashar31/b2c7da66c50b0e97420e261d2eebe2ad',\n",
       "   'description': 'instantly share code notes snippets'},\n",
       "  '5': {'domain': None, 'url': '', 'description': ''},\n",
       "  '6': {'domain': <re.Match object; span=(0, 28), match='https://embeddedartistry.com'>,\n",
       "   'url': 'https://embeddedartistry.com/fieldmanual-terms/python/',\n",
       "   'description': 'embedded artistry building superior embedded systems python widely used general purpose scripting language python high level general purpose programming language design philosophy emphasizes code readability use significant indentation python dynamically typed garbage collected supports multiple programming paradigms including structured particularly procedural object oriented functional programming often described batteries included language due comprehensive standard library guido van rossum began working python late successor abc programming language first released python python released introduced new features list comprehensions cycle detecting garbage collection reference counting unicode support python released major revision completely backward compatible earlier versions python discontinued version python consistently ranks one popular programming languages sign receive free playbook writing portable embedded software embedded artistry llc rights reserved embedded artistry owl logo registered trademarks embedded artistry llc'},\n",
       "  '7': {'domain': <re.Match object; span=(0, 18), match='https://golden.com'>,\n",
       "   'url': 'https://golden.com/wiki/Pyton-8VGWRR',\n",
       "   'description': 'programming language python high level general purpose programming language design philosophy emphasizes code readability use significant indentation language constructs object oriented approach aim help programmers write clear logical code small large scale projects python dynamically typed garbage collected supports multiple programming paradigms including structured particularly procedural object oriented functional programming often described batteries included language due comprehensive standard library guido van rossum began working python late successor abc programming language first released python python released introduced new features list comprehensions cycle detecting garbage collection reference counting unicode support python released major revision vlad tomashevskyii'},\n",
       "  '8': {'domain': <re.Match object; span=(0, 21), match='https://site.ieee.org'>,\n",
       "   'url': 'https://site.ieee.org/sb-sliet/python-programming/',\n",
       "   'description': ''},\n",
       "  '9': {'domain': <re.Match object; span=(0, 25), match='https://www.stackwisr.com'>,\n",
       "   'url': 'https://www.stackwisr.com/course/37/introduction-to-python-3-programming',\n",
       "   'description': ''},\n",
       "  '10': {'domain': <re.Match object; span=(0, 35), match='https://www.whitebandassociates.com'>,\n",
       "   'url': 'https://www.whitebandassociates.com/python',\n",
       "   'description': 'home wba info directors training services gallery blog contact us forum members python high level interpreted general purpose programming language design philosophy emphasizes code readability use significant indentation python dynamically typed garbage collected supports multiple programming paradigms including structured particularly procedural object oriented functional programming often described batteries included language due comprehensive standard library guido van rossum began working python late successor abc programming language first released python python released introduced new features list comprehensions cycle detecting garbage collection reference counting unicode support python released major revision completely backward compatible earlier versions python discontinued version python consistently ranks one popular programming languages python released october many major new features python released december many major features backported python x x releases python include utility automates translation python code python competing course able create first program python idle implement oops concepts programming use arrays data structures create application support graphics python implement error handling number questions test duration hours launch date june exam codes eeh wba languages english passing score mode exam online thanks submitting address narayan bunglow balaji nagar daund email whitebandassociates gmail com phone '}}}"
      ]
     },
     "execution_count": 11,
     "metadata": {},
     "output_type": "execute_result"
    }
   ],
   "source": [
    "#final scraped data\n",
    "final"
   ]
  },
  {
   "cell_type": "code",
   "execution_count": 12,
   "id": "6532392a",
   "metadata": {},
   "outputs": [
    {
     "name": "stdout",
     "output_type": "stream",
     "text": [
      "Could be copied form: - <re.Match object; span=(0, 24), match='https://www.linkedin.com'>\n",
      "Could be copied form: - <re.Match object; span=(0, 24), match='https://en.wikipedia.org'>\n",
      "Could be copied form: - <re.Match object; span=(0, 28), match='https://embeddedartistry.com'>\n",
      "Could be copied form: - <re.Match object; span=(0, 18), match='https://golden.com'>\n",
      "Could be copied form: - <re.Match object; span=(0, 35), match='https://www.whitebandassociates.com'>\n"
     ]
    },
    {
     "data": {
      "image/png": "[encoded data removed]",
      "text/plain": [
       "<Figure size 432x288 with 2 Axes>"
      ]
     },
     "metadata": {
      "needs_background": "light"
     },
     "output_type": "display_data"
    }
   ],
   "source": [
    "#Applying cosine similarity by vectorizing user text and scraped text\n",
    "web=[]\n",
    "plt=[]\n",
    "position = []\n",
    "for i in final:\n",
    "    for j in final[i]:\n",
    "        arr = [df.Treated_Text[int(i)],final[i][j][\"description\"]]\n",
    "        #TFIDF Vectorization\n",
    "        vectorizer = TfidfVectorizer()\n",
    "        obj = vectorizer.fit_transform(arr)\n",
    "        vectors = obj.toarray() \n",
    "        sim = round(cosine_similarity(vectors)[0][1],2)\n",
    "        if sim>0.30:\n",
    "            # Creating list of matched websites indexs of final dictionary\n",
    "            position.append(j)\n",
    "            #List of matched sites score and weblink\n",
    "            plt.append(sim)\n",
    "            link = str(final[i][j][\"domain\"])\n",
    "            link_list = link.split(',')\n",
    "            web.append(link_list[2])\n",
    "            print(f'Could be copied form: - {final[i][j][\"domain\"]}')\n",
    "    #displaying Most similar website similarity score confusion matrix       \n",
    "    for k in range(len(plt)):\n",
    "        if plt[k] == max(plt):\n",
    "            l = [df.Treated_Text[int(i)],final[i][str(position[k])][\"description\"]]\n",
    "            vectorizer = TfidfVectorizer()\n",
    "            m = vectorizer.fit_transform(l)\n",
    "            vec = m.toarray()\n",
    "            group_names = ['True Neg','False Pos','False Neg','True Pos']\n",
    "            group_counts = [\"{0:.2}\".format(value) for value in cosine_similarity(vec).flatten()]\n",
    "            labels = [f\"{v1}\\n{v2}\" for v1, v2 in zip(group_names,group_counts)]\n",
    "            labels = np.asarray(labels).reshape(2,2)\n",
    "            ptl.title(\"Confusion matrix of most similar result to the given text\")\n",
    "            sns.heatmap(cosine_similarity(vec), annot=labels, fmt='', cmap='Blues')"
   ]
  },
  {
   "cell_type": "code",
   "execution_count": 13,
   "id": "7f8712b5",
   "metadata": {},
   "outputs": [],
   "source": [
    "#Dataframe of weblinks and their similarity score\n",
    "list_of_tuples = list(zip(web, plt))\n",
    "data = pd.DataFrame(list_of_tuples,columns=['Source URL', 'Similarity score'])"
   ]
  },
  {
   "cell_type": "code",
   "execution_count": 14,
   "id": "1b5a21c8",
   "metadata": {},
   "outputs": [
    {
     "data": {
      "text/html": [
       "<div>\n",
       "<style scoped>\n",
       "    .dataframe tbody tr th:only-of-type {\n",
       "        vertical-align: middle;\n",
       "    }\n",
       "\n",
       "    .dataframe tbody tr th {\n",
       "        vertical-align: top;\n",
       "    }\n",
       "\n",
       "    .dataframe thead th {\n",
       "        text-align: right;\n",
       "    }\n",
       "</style>\n",
       "<table border=\"1\" class=\"dataframe\">\n",
       "  <thead>\n",
       "    <tr style=\"text-align: right;\">\n",
       "      <th></th>\n",
       "      <th>Source URL</th>\n",
       "      <th>Similarity score</th>\n",
       "    </tr>\n",
       "  </thead>\n",
       "  <tbody>\n",
       "    <tr>\n",
       "      <th>0</th>\n",
       "      <td>match='https://www.linkedin.com'&gt;</td>\n",
       "      <td>0.51</td>\n",
       "    </tr>\n",
       "    <tr>\n",
       "      <th>1</th>\n",
       "      <td>match='https://en.wikipedia.org'&gt;</td>\n",
       "      <td>0.31</td>\n",
       "    </tr>\n",
       "    <tr>\n",
       "      <th>2</th>\n",
       "      <td>match='https://embeddedartistry.com'&gt;</td>\n",
       "      <td>0.43</td>\n",
       "    </tr>\n",
       "    <tr>\n",
       "      <th>3</th>\n",
       "      <td>match='https://golden.com'&gt;</td>\n",
       "      <td>0.56</td>\n",
       "    </tr>\n",
       "    <tr>\n",
       "      <th>4</th>\n",
       "      <td>match='https://www.whitebandassociates.com'&gt;</td>\n",
       "      <td>0.39</td>\n",
       "    </tr>\n",
       "  </tbody>\n",
       "</table>\n",
       "</div>"
      ],
      "text/plain": [
       "                                      Source URL  Similarity score\n",
       "0              match='https://www.linkedin.com'>              0.51\n",
       "1              match='https://en.wikipedia.org'>              0.31\n",
       "2          match='https://embeddedartistry.com'>              0.43\n",
       "3                    match='https://golden.com'>              0.56\n",
       "4   match='https://www.whitebandassociates.com'>              0.39"
      ]
     },
     "execution_count": 14,
     "metadata": {},
     "output_type": "execute_result"
    }
   ],
   "source": [
    "data"
   ]
  },
  {
   "cell_type": "markdown",
   "id": "1c6c8a6b",
   "metadata": {},
   "source": [
    "### Part-2 Paraphrasing"
   ]
  },
  {
   "cell_type": "code",
   "execution_count": 15,
   "id": "23bbf692",
   "metadata": {},
   "outputs": [
    {
     "name": "stderr",
     "output_type": "stream",
     "text": [
      "[nltk_data] Downloading package punkt to C:\\Users\\Harshit\n",
      "[nltk_data]     Dave\\AppData\\Roaming\\nltk_data...\n",
      "[nltk_data]   Package punkt is already up-to-date!\n"
     ]
    }
   ],
   "source": [
    "#Importing libraries for Paraphrasing\n",
    "from transformers import AutoTokenizer, AutoModelForSeq2SeqLM\n",
    "import torch\n",
    "import warnings\n",
    "import nltk\n",
    "nltk.download('punkt')\n",
    "from nltk.tokenize import sent_tokenize\n",
    "warnings.filterwarnings(\"ignore\")"
   ]
  },
  {
   "cell_type": "code",
   "execution_count": 16,
   "id": "8177847d",
   "metadata": {},
   "outputs": [],
   "source": [
    "text = 'Python is dynamically-typed and garbage-collected. It supports multiple programming paradigms, including structured (particularly procedural), object-oriented and functional programming. It is often described as a \"batteries included\" language due to its comprehensive standard library.'"
   ]
  },
  {
   "cell_type": "code",
   "execution_count": 17,
   "id": "d75f3923",
   "metadata": {},
   "outputs": [],
   "source": [
    "#T5 pretrained model for paraphrasing\n",
    "tokenizer = AutoTokenizer.from_pretrained(\"prithivida/parrot_paraphraser_on_T5\")\n",
    "model = AutoModelForSeq2SeqLM.from_pretrained(\"prithivida/parrot_paraphraser_on_T5\")"
   ]
  },
  {
   "cell_type": "code",
   "execution_count": 18,
   "id": "828d2777",
   "metadata": {},
   "outputs": [
    {
     "name": "stdout",
     "output_type": "stream",
     "text": [
      "Python is dynamically typed and garbage collected. '' It supports multiple programming paradigms including structured (particularly procedural), object-oriented and functional programming. It is often described as a \"batteries included\" language due to its vast standard library.\n"
     ]
    }
   ],
   "source": [
    "# Parameters Tuning of model.\n",
    "#Tockening and applying model on text\n",
    "def paraphraser(para):\n",
    "    sentence = \"paraphrase: \" + para + \" </s>\"\n",
    "    encoding = tokenizer.encode_plus(sentence,padding=True, return_tensors=\"pt\")\n",
    "    #Encoding tokens and masks\n",
    "    input_ids, attention_masks = encoding[\"input_ids\"], encoding[\"attention_mask\"]\n",
    "    outputs = model.generate(input_ids=input_ids, attention_mask=attention_masks,\n",
    "                             max_length=256,\n",
    "                             do_sample=True,\n",
    "                             top_k=120,\n",
    "                             top_p=0.95,\n",
    "                             early_stopping=True,\n",
    "                             num_return_sequences=1)\n",
    "    #Decoding generated output \n",
    "    output = tokenizer.decode(outputs[0], skip_special_tokens=True,clean_up_tokenization_spaces=True)\n",
    "    return(output)\n",
    " \n",
    "output = \" \".join([paraphraser(sent) for sent in sent_tokenize(text)])\n",
    "#Final Paraphrased sentence\n",
    "print(output)"
   ]
  },
  {
   "cell_type": "code",
   "execution_count": null,
   "id": "019140c0",
   "metadata": {},
   "outputs": [],
   "source": []
  },
  {
   "cell_type": "code",
   "execution_count": null,
   "id": "e4c43e85",
   "metadata": {},
   "outputs": [],
   "source": []
  }
 ],
 "metadata": {
  "kernelspec": {
   "display_name": "Python 3 (ipykernel)",
   "language": "python",
   "name": "python3"
  },
  "language_info": {
   "codemirror_mode": {
    "name": "ipython",
    "version": 3
   },
   "file_extension": ".py",
   "mimetype": "text/x-python",
   "name": "python",
   "nbconvert_exporter": "python",
   "pygments_lexer": "ipython3",
   "version": "3.9.12"
  }
 },
 "nbformat": 4,
 "nbformat_minor": 5
}
